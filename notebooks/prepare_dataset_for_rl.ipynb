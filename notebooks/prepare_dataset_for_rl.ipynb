{
 "cells": [
  {
   "cell_type": "code",
   "execution_count": null,
   "id": "00fe4fe5",
   "metadata": {},
   "outputs": [],
   "source": [
    "import pandas as pd\n",
    "from utils import *\n",
    "\n",
    "config = load_config()\n",
    "PROJECT_PATH = config.project_path\n",
    "DATA_PATH = PROJECT_PATH.joinpath(\"data/raw\")"
   ]
  },
  {
   "cell_type": "code",
   "execution_count": null,
   "id": "c411e253",
   "metadata": {},
   "outputs": [],
   "source": [
    "\n",
    "whole_dataset = []\n",
    "for page in [\"page1\", \"page2\", \"page3\", \"page4\"] :\n",
    "    data = df = pd.read_excel(DATA_PATH.joinpath(\"annotation_notes.xlsx\"), sheet_name=page)\n",
    "    whole_dataset.append(data)\n",
    "\n",
    "df = pd.concat(whole_dataset, ignore_index=True)\n",
    "df.columns\n",
    "\n",
    "df = df[[\"note_id\", \"text\", \"questionnaire\"]].dropna()"
   ]
  },
  {
   "cell_type": "code",
   "execution_count": null,
   "id": "cc7082f0",
   "metadata": {},
   "outputs": [],
   "source": [
    "# working on some filtering\n",
    "df.loc[:,\"note_id\"] = df['note_id'].str.replace(\"\\n\", \"\")\n",
    "\n",
    "example = df[\"questionnaire\"][0]\n",
    "print(example)"
   ]
  },
  {
   "cell_type": "code",
   "execution_count": null,
   "id": "df5f0e89",
   "metadata": {
    "lines_to_next_cell": 2
   },
   "outputs": [],
   "source": [
    "# define function that parses each question and choices\n",
    "import json\n",
    "import re\n",
    "\n",
    "def parse_questions(questionnaire_text) :\n",
    "    question_lists = []\n",
    "    questions = example.split(\"|\\n\")\n",
    "    # p = re.compile();\n",
    "    for q in questions :\n",
    "        idx = q.index(\"?\")\n",
    "        question = re.findall(r\"^\\d+\\.\\s*(.*)\",q)[0]\n",
    "        # print(question)\n",
    "        choices = re.findall(r\"([a-c])\\)\\s*(.*?)(?:\\s*\\((.*?)\\))?\\n\", q)\n",
    "        # print(choices)\n",
    "        output = {\"question\" : question, \n",
    "                  \"choices\" {choice[0]: choice[1].strip() for choice in choices},\n",
    "                  \"answer\": list(filter(lambda x : x[2] == \"Answer\", choices))[0][0]}\n",
    "        question_lists.append(output)\n",
    "    return question_lists\n",
    "\n",
    "\n",
    "\n",
    "\n",
    "\n",
    "\n",
    "\n",
    "\n",
    "\n",
    "\n"
   ]
  }
 ],
 "metadata": {
  "jupytext": {
   "cell_metadata_filter": "-all"
  },
  "kernelspec": {
   "display_name": "Python 3 (ipykernel)",
   "language": "python",
   "name": "python3"
  }
 },
 "nbformat": 4,
 "nbformat_minor": 5
}
