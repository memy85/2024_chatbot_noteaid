{
 "cells": [
  {
   "cell_type": "code",
   "execution_count": 1,
   "metadata": {},
   "outputs": [],
   "source": [
    "import pandas as pd\n",
    "import pickle\n",
    "from utils import *\n",
    "\n",
    "config = load_config()"
   ]
  },
  {
   "cell_type": "code",
   "execution_count": 2,
   "metadata": {},
   "outputs": [],
   "source": [
    "PROJECT_PATH = config.project_path\n",
    "DATA_PATH = PROJECT_PATH.joinpath(\"data/processed\")"
   ]
  },
  {
   "cell_type": "code",
   "execution_count": 3,
   "metadata": {},
   "outputs": [],
   "source": [
    "with open(DATA_PATH.joinpath(\"gpt4o_mini_generated_synthetic_conversation_2.pkl\"), \"rb\") as f :\n",
    "    data = pickle.load(f)"
   ]
  },
  {
   "cell_type": "code",
   "execution_count": null,
   "metadata": {},
   "outputs": [],
   "source": [
    "print(data[0]['messages'])"
   ]
  },
  {
   "cell_type": "code",
   "execution_count": 5,
   "metadata": {},
   "outputs": [],
   "source": [
    "from datasets import Dataset\n",
    "\n",
    "def form_dataset() :\n",
    "    with open(DATA_PATH.joinpath(\"synthetic_notes_for_sft.pkl\"), \"rb\") as f :\n",
    "        notes = pickle.load(f)\n",
    "    \n",
    "    with open(DATA_PATH.joinpath(\"synthetic_conversation_10000.pkl\"), \"rb\") as f :\n",
    "        chat = pickle.load(f)\n",
    "        # sft_chat = []\n",
    "        # for i in notes.index :\n",
    "        #     sft_chat.append(chat[i])\n",
    "        # chat = sft_chat\n",
    "\n",
    "    prompt = config.load_prompts(\"autoeval_stage1.txt\")\n",
    "    \n",
    "    new_rows = []\n",
    "    for i, row in notes.iterrows() :\n",
    "    #     # q = str(q)\n",
    "        note = row['note']\n",
    "        conversation = chat[i]\n",
    "        system_prompt = prompt.format(discharge_note=note)\n",
    "\n",
    "        new_rows.append({\"messages\" : [{\"role\" : \"system\", \"content\" : system_prompt}] + conversation })\n",
    "    new_rows = Dataset.from_list(new_rows)\n",
    "    return new_rows\n"
   ]
  },
  {
   "cell_type": "code",
   "execution_count": 6,
   "metadata": {},
   "outputs": [],
   "source": [
    "def load_datasets() :\n",
    "    df = form_dataset()\n",
    "    # df = Dataset.from_list(df)\n",
    "    df = df.train_test_split(train_size=0.8, seed=0)\n",
    "    return df"
   ]
  },
  {
   "cell_type": "code",
   "execution_count": 7,
   "metadata": {},
   "outputs": [],
   "source": [
    "df = load_datasets()"
   ]
  },
  {
   "cell_type": "markdown",
   "metadata": {},
   "source": [
    "token id for EOC token"
   ]
  },
  {
   "cell_type": "code",
   "execution_count": 13,
   "metadata": {},
   "outputs": [],
   "source": [
    "from transformers import AutoModelForCausalLM, AutoTokenizer\n",
    "from peft import PeftModelForCausalLM\n",
    "\n",
    "MODEL_PATH = \"/home/wjang/2024_chatbot_noteaid/model/gguf/llama3.2-3B-lora\"\n",
    "tokenizer = AutoTokenizer.from_pretrained(MODEL_PATH)\n",
    "# model = PeftModelForCausalLM.from_pretrained(MODEL_PATH)"
   ]
  },
  {
   "cell_type": "code",
   "execution_count": 15,
   "metadata": {},
   "outputs": [
    {
     "data": {
      "text/plain": [
       "128256"
      ]
     },
     "execution_count": 15,
     "metadata": {},
     "output_type": "execute_result"
    }
   ],
   "source": [
    "tokenizer.convert_tokens_to_ids(\"<EOC>\")"
   ]
  }
 ],
 "metadata": {
  "kernelspec": {
   "display_name": "cn",
   "language": "python",
   "name": "python3"
  },
  "language_info": {
   "codemirror_mode": {
    "name": "ipython",
    "version": 3
   },
   "file_extension": ".py",
   "mimetype": "text/x-python",
   "name": "python",
   "nbconvert_exporter": "python",
   "pygments_lexer": "ipython3",
   "version": "3.12.5"
  }
 },
 "nbformat": 4,
 "nbformat_minor": 2
}
