{
 "cells": [
  {
   "cell_type": "code",
   "execution_count": null,
   "id": "f1d42059",
   "metadata": {},
   "outputs": [],
   "source": [
    "import pickle\n",
    "from utils import *\n",
    "\n",
    "config = load_config()\n",
    "PROJECT_PATH = config.project_path\n",
    "DATA_PATH = PROJECT_PATH.joinpath(\"data/processed\")"
   ]
  },
  {
   "cell_type": "code",
   "execution_count": null,
   "id": "f1c3b0b7",
   "metadata": {},
   "outputs": [],
   "source": [
    "with open(DATA_PATH.joinpath(\"gpt4o_mini_generated_synthetic_notes_10000.pkl\"), \"rb\") as f :\n",
    "    data = pickle.load(f)\n",
    "\n",
    "count = 10000\n",
    "with open(DATA_PATH.joinpath(f\"synthetic_note_demographic_info_{count}.pkl\"), \"rb\") as f :\n",
    "    out = pickle.load(f)"
   ]
  },
  {
   "cell_type": "code",
   "execution_count": null,
   "id": "6d923e33",
   "metadata": {
    "lines_to_next_cell": 2
   },
   "outputs": [],
   "source": [
    "import random\n",
    "import numpy as np\n",
    "import pandas as pd\n",
    "index = [i for i in range(0,10000)]\n",
    "df = pd.DataFrame(data)\n",
    "df['demographic'] = out\n",
    "random.seed(0)\n",
    "random.shuffle(index)\n",
    "\n",
    "sft = index[:8000]\n",
    "rl = index[8000:9900]\n",
    "test = index[9900:]\n",
    "\n",
    "df.loc[sft,:].to_pickle(DATA_PATH.joinpath(\"synthetic_notes_for_sft.pkl\"))\n",
    "df.loc[rl,:].to_pickle(DATA_PATH.joinpath(\"synthetic_notes_for_rl.pkl\"))\n",
    "df.loc[test,:].to_pickle(DATA_PATH.joinpath(\"synthetic_notes_for_test.pkl\"))"
   ]
  },
  {
   "cell_type": "code",
   "execution_count": null,
   "id": "bbfe05ae",
   "metadata": {},
   "outputs": [],
   "source": [
    "df = pd.read_pickle(DATA_PATH.joinpath(\"synthetic_notes_for_sft.pkl\"))\n",
    "with open(DATA_PATH.joinpath(\"synthetic_qa_10000.pkl\"), \"rb\") as f :\n",
    "    qa = pickle.load(f)\n",
    "\n",
    "sft_qa = []\n",
    "for i in df.index :\n",
    "    sft_qa.append(qa[i])\n",
    "\n",
    "sft_qa"
   ]
  },
  {
   "cell_type": "code",
   "execution_count": null,
   "id": "fb093234",
   "metadata": {},
   "outputs": [],
   "source": [
    "a = ['a', 'b', 'c']\n",
    "for i in range(len(a)) :\n",
    "    print(a[:i])"
   ]
  },
  {
   "cell_type": "code",
   "execution_count": null,
   "id": "7cd22da4",
   "metadata": {},
   "outputs": [],
   "source": [
    "rl = pd.read_pickle(DATA_PATH.joinpath(\"synthetic_notes_for_rl.pkl\"))\n",
    "test = pd.read_pickle(DATA_PATH.joinpath(\"synthetic_notes_for_test.pkl\"))\n",
    "qa_set = pd.read_pickle(DATA_PATH.joinpath(\"synthetic_qa_10000.pkl\"))"
   ]
  },
  {
   "cell_type": "code",
   "execution_count": null,
   "id": "1685262f",
   "metadata": {
    "title": "Process the datasets to have QA"
   },
   "outputs": [],
   "source": [
    "rl_qas = []\n",
    "for i, row in rl.iterrows() :\n",
    "    rl_qas.append(qa_set[i])\n",
    "\n",
    "test_qas = []\n",
    "for i, row in test.iterrows() :\n",
    "    test_qas.append(qa_set[i])"
   ]
  },
  {
   "cell_type": "code",
   "execution_count": null,
   "id": "d65146df",
   "metadata": {},
   "outputs": [],
   "source": [
    "rl['qa'] = rl_qas\n",
    "test['qa'] = test_qas"
   ]
  },
  {
   "cell_type": "code",
   "execution_count": null,
   "id": "bb7c5502",
   "metadata": {},
   "outputs": [],
   "source": [
    "rl.to_pickle(DATA_PATH.joinpath(\"synthetic_notes_for_rl.pkl\"))\n",
    "test.to_pickle(DATA_PATH.joinpath(\"synthetic_notes_for_test.pkl\"))"
   ]
  },
  {
   "cell_type": "code",
   "execution_count": null,
   "id": "d99f252e",
   "metadata": {},
   "outputs": [],
   "source": [
    "import json\n",
    "with open(PROJECT_PATH.joinpath('data/processed/synthetic_notes_for_rl.pkl'), 'rb') as f :\n",
    "    rl = pickle.load(f)\n",
    "\n",
    "with open(PROJECT_PATH.joinpath('data/processed/synthetic_notes_for_test.pkl'), 'rb') as f :\n",
    "    test = pickle.load(f)\n",
    "\n",
    "rl.reset_index(drop=True).to_json(PROJECT_PATH.joinpath('data/processed/synthetic_notes_for_rl.json'))\n",
    "test.reset_index(drop=True).to_json(PROJECT_PATH.joinpath('data/processed/synthetic_notes_for_test.json'))\n",
    "\n",
    "# rl.to_json(PROJECT_PATH.joinpath('data/processed/synthetic_notes_for_rl.json'))\n",
    "# test.to_json(PROJECT_PATH.joinpath('data/processed/synthetic_notes_for_test.json'))"
   ]
  }
 ],
 "metadata": {
  "jupytext": {
   "cell_metadata_filter": "title,-all"
  },
  "kernelspec": {
   "display_name": "Python 3 (ipykernel)",
   "language": "python",
   "name": "python3"
  }
 },
 "nbformat": 4,
 "nbformat_minor": 5
}
