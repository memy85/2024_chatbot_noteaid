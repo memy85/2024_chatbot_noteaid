{
 "cells": [
  {
   "cell_type": "code",
   "execution_count": 1,
   "metadata": {},
   "outputs": [],
   "source": [
    "import pandas as pd\n",
    "from utils import *\n",
    "\n",
    "config = load_config()\n",
    "PROJECT_PATH = config.project_path\n",
    "raw_path = PROJECT_PATH.joinpath(\"data/raw/tokenized\")\n",
    "DATA_PATH = PROJECT_PATH.joinpath(\"data/processed\")"
   ]
  },
  {
   "cell_type": "code",
   "execution_count": 2,
   "metadata": {},
   "outputs": [],
   "source": [
    "import os, sys\n",
    "\n",
    "texts = []\n",
    "reportID = []\n",
    "for file_name in os.listdir(raw_path) :\n",
    "    with open(raw_path.joinpath(file_name), 'r') as f :\n",
    "        text = f.read()\n",
    "    reportID.append(file_name)\n",
    "    texts.append(text)\n",
    "    "
   ]
  },
  {
   "cell_type": "code",
   "execution_count": 3,
   "metadata": {},
   "outputs": [],
   "source": [
    "df = pd.DataFrame(\n",
    "    {\"reportID\" : reportID,\n",
    "     \"texts\" : texts}\n",
    ")"
   ]
  },
  {
   "cell_type": "code",
   "execution_count": 4,
   "metadata": {},
   "outputs": [
    {
     "data": {
      "text/html": [
       "<div>\n",
       "<style scoped>\n",
       "    .dataframe tbody tr th:only-of-type {\n",
       "        vertical-align: middle;\n",
       "    }\n",
       "\n",
       "    .dataframe tbody tr th {\n",
       "        vertical-align: top;\n",
       "    }\n",
       "\n",
       "    .dataframe thead th {\n",
       "        text-align: right;\n",
       "    }\n",
       "</style>\n",
       "<table border=\"1\" class=\"dataframe\">\n",
       "  <thead>\n",
       "    <tr style=\"text-align: right;\">\n",
       "      <th></th>\n",
       "      <th>reportID</th>\n",
       "      <th>texts</th>\n",
       "    </tr>\n",
       "  </thead>\n",
       "  <tbody>\n",
       "    <tr>\n",
       "      <th>0</th>\n",
       "      <td>report7660</td>\n",
       "      <td>[ Report de-identified ( Safe-harbor compliant...</td>\n",
       "    </tr>\n",
       "    <tr>\n",
       "      <th>1</th>\n",
       "      <td>report4725</td>\n",
       "      <td>[ Report de-identified ( Safe-harbor compliant...</td>\n",
       "    </tr>\n",
       "    <tr>\n",
       "      <th>2</th>\n",
       "      <td>report5005</td>\n",
       "      <td>[ Report de-identified ( Safe-harbor compliant...</td>\n",
       "    </tr>\n",
       "    <tr>\n",
       "      <th>3</th>\n",
       "      <td>report2854</td>\n",
       "      <td>[ Report de-identified ( Safe-harbor compliant...</td>\n",
       "    </tr>\n",
       "    <tr>\n",
       "      <th>4</th>\n",
       "      <td>report6420</td>\n",
       "      <td>[ Report de-identified ( Safe-harbor compliant...</td>\n",
       "    </tr>\n",
       "    <tr>\n",
       "      <th>...</th>\n",
       "      <td>...</td>\n",
       "      <td>...</td>\n",
       "    </tr>\n",
       "    <tr>\n",
       "      <th>7834</th>\n",
       "      <td>report3220</td>\n",
       "      <td>[ Report de-identified ( Safe-harbor compliant...</td>\n",
       "    </tr>\n",
       "    <tr>\n",
       "      <th>7835</th>\n",
       "      <td>report6205</td>\n",
       "      <td>[ Report de-identified ( Safe-harbor compliant...</td>\n",
       "    </tr>\n",
       "    <tr>\n",
       "      <th>7836</th>\n",
       "      <td>report1058</td>\n",
       "      <td>[ Report de-identified ( Safe-harbor compliant...</td>\n",
       "    </tr>\n",
       "    <tr>\n",
       "      <th>7837</th>\n",
       "      <td>report943</td>\n",
       "      <td>[ Report de-identified ( Safe-harbor compliant...</td>\n",
       "    </tr>\n",
       "    <tr>\n",
       "      <th>7838</th>\n",
       "      <td>report1178</td>\n",
       "      <td>[ Report de-identified ( Safe-harbor compliant...</td>\n",
       "    </tr>\n",
       "  </tbody>\n",
       "</table>\n",
       "<p>7839 rows × 2 columns</p>\n",
       "</div>"
      ],
      "text/plain": [
       "        reportID                                              texts\n",
       "0     report7660  [ Report de-identified ( Safe-harbor compliant...\n",
       "1     report4725  [ Report de-identified ( Safe-harbor compliant...\n",
       "2     report5005  [ Report de-identified ( Safe-harbor compliant...\n",
       "3     report2854  [ Report de-identified ( Safe-harbor compliant...\n",
       "4     report6420  [ Report de-identified ( Safe-harbor compliant...\n",
       "...          ...                                                ...\n",
       "7834  report3220  [ Report de-identified ( Safe-harbor compliant...\n",
       "7835  report6205  [ Report de-identified ( Safe-harbor compliant...\n",
       "7836  report1058  [ Report de-identified ( Safe-harbor compliant...\n",
       "7837   report943  [ Report de-identified ( Safe-harbor compliant...\n",
       "7838  report1178  [ Report de-identified ( Safe-harbor compliant...\n",
       "\n",
       "[7839 rows x 2 columns]"
      ]
     },
     "execution_count": 4,
     "metadata": {},
     "output_type": "execute_result"
    }
   ],
   "source": [
    "def discharge_instruction_checker(text) :\n",
    "\n",
    "    text = text.lower()\n",
    "    if \"discharge instruction\" or \"dischargeinstruction\""
   ]
  },
  {
   "cell_type": "code",
   "execution_count": 21,
   "metadata": {},
   "outputs": [],
   "source": [
    "df.to_excel(DATA_PATH.joinpath(\"pittsburg_dataset.xlsx\"))"
   ]
  },
  {
   "cell_type": "code",
   "execution_count": 25,
   "metadata": {},
   "outputs": [
    {
     "data": {
      "text/plain": [
       "(7839, 2)"
      ]
     },
     "execution_count": 25,
     "metadata": {},
     "output_type": "execute_result"
    }
   ],
   "source": [
    "df.shape"
   ]
  },
  {
   "cell_type": "markdown",
   "metadata": {},
   "source": [
    "### Parse 50 representative notes from Pittsburgh dataset"
   ]
  },
  {
   "cell_type": "code",
   "execution_count": 1,
   "metadata": {},
   "outputs": [
    {
     "name": "stderr",
     "output_type": "stream",
     "text": [
      "/home/wjang/miniconda3/envs/cn/lib/python3.12/site-packages/tqdm/auto.py:21: TqdmWarning: IProgress not found. Please update jupyter and ipywidgets. See https://ipywidgets.readthedocs.io/en/stable/user_install.html\n",
      "  from .autonotebook import tqdm as notebook_tqdm\n"
     ]
    }
   ],
   "source": [
    "import pandas as pd\n",
    "from utils import *\n",
    "\n",
    "config = load_config()\n",
    "PROJECT_PATH = config.project_path\n",
    "DATA_PATH = PROJECT_PATH.joinpath(\"data/processed\")"
   ]
  },
  {
   "cell_type": "code",
   "execution_count": 2,
   "metadata": {},
   "outputs": [
    {
     "data": {
      "text/html": [
       "<div>\n",
       "<style scoped>\n",
       "    .dataframe tbody tr th:only-of-type {\n",
       "        vertical-align: middle;\n",
       "    }\n",
       "\n",
       "    .dataframe tbody tr th {\n",
       "        vertical-align: top;\n",
       "    }\n",
       "\n",
       "    .dataframe thead th {\n",
       "        text-align: right;\n",
       "    }\n",
       "</style>\n",
       "<table border=\"1\" class=\"dataframe\">\n",
       "  <thead>\n",
       "    <tr style=\"text-align: right;\">\n",
       "      <th></th>\n",
       "      <th>Unnamed: 0</th>\n",
       "      <th>reportID</th>\n",
       "      <th>texts</th>\n",
       "      <th>word_count</th>\n",
       "      <th>instruction_count</th>\n",
       "      <th>rank</th>\n",
       "      <th>processed_text</th>\n",
       "      <th>readability_score</th>\n",
       "    </tr>\n",
       "  </thead>\n",
       "  <tbody>\n",
       "    <tr>\n",
       "      <th>0</th>\n",
       "      <td>4713</td>\n",
       "      <td>report1511</td>\n",
       "      <td>[ Report de-identified ( Safe-harbor compliant...</td>\n",
       "      <td>383</td>\n",
       "      <td>159</td>\n",
       "      <td>770</td>\n",
       "      <td>['report', 'compliant', 'institution', 'trauma...</td>\n",
       "      <td>68.67</td>\n",
       "    </tr>\n",
       "    <tr>\n",
       "      <th>1</th>\n",
       "      <td>2395</td>\n",
       "      <td>report2581</td>\n",
       "      <td>[ Report de-identified ( Safe-harbor compliant...</td>\n",
       "      <td>955</td>\n",
       "      <td>160</td>\n",
       "      <td>763</td>\n",
       "      <td>['report', 'compliant', 'institution', 'neurol...</td>\n",
       "      <td>67.25</td>\n",
       "    </tr>\n",
       "    <tr>\n",
       "      <th>2</th>\n",
       "      <td>5345</td>\n",
       "      <td>report2834</td>\n",
       "      <td>[ Report de-identified ( Safe-harbor compliant...</td>\n",
       "      <td>396</td>\n",
       "      <td>163</td>\n",
       "      <td>750</td>\n",
       "      <td>['report', 'compliant', 'institution', 'trauma...</td>\n",
       "      <td>71.34</td>\n",
       "    </tr>\n",
       "    <tr>\n",
       "      <th>3</th>\n",
       "      <td>2270</td>\n",
       "      <td>report7216</td>\n",
       "      <td>[ Report de-identified ( Safe-harbor compliant...</td>\n",
       "      <td>462</td>\n",
       "      <td>163</td>\n",
       "      <td>750</td>\n",
       "      <td>['report', 'compliant', 'institution', 'otorhi...</td>\n",
       "      <td>75.50</td>\n",
       "    </tr>\n",
       "    <tr>\n",
       "      <th>4</th>\n",
       "      <td>2541</td>\n",
       "      <td>report6580</td>\n",
       "      <td>[ Report de-identified ( Safe-harbor compliant...</td>\n",
       "      <td>668</td>\n",
       "      <td>165</td>\n",
       "      <td>743</td>\n",
       "      <td>['report', 'compliant', 'institution', 'genera...</td>\n",
       "      <td>69.18</td>\n",
       "    </tr>\n",
       "  </tbody>\n",
       "</table>\n",
       "</div>"
      ],
      "text/plain": [
       "   Unnamed: 0    reportID                                              texts  \\\n",
       "0        4713  report1511  [ Report de-identified ( Safe-harbor compliant...   \n",
       "1        2395  report2581  [ Report de-identified ( Safe-harbor compliant...   \n",
       "2        5345  report2834  [ Report de-identified ( Safe-harbor compliant...   \n",
       "3        2270  report7216  [ Report de-identified ( Safe-harbor compliant...   \n",
       "4        2541  report6580  [ Report de-identified ( Safe-harbor compliant...   \n",
       "\n",
       "   word_count  instruction_count  rank  \\\n",
       "0         383                159   770   \n",
       "1         955                160   763   \n",
       "2         396                163   750   \n",
       "3         462                163   750   \n",
       "4         668                165   743   \n",
       "\n",
       "                                      processed_text  readability_score  \n",
       "0  ['report', 'compliant', 'institution', 'trauma...              68.67  \n",
       "1  ['report', 'compliant', 'institution', 'neurol...              67.25  \n",
       "2  ['report', 'compliant', 'institution', 'trauma...              71.34  \n",
       "3  ['report', 'compliant', 'institution', 'otorhi...              75.50  \n",
       "4  ['report', 'compliant', 'institution', 'genera...              69.18  "
      ]
     },
     "execution_count": 2,
     "metadata": {},
     "output_type": "execute_result"
    }
   ],
   "source": [
    "df = pd.read_excel(DATA_PATH.joinpath(\"representative_notes_50_pittsburg.xlsx\"))\n",
    "df.head()"
   ]
  },
  {
   "cell_type": "code",
   "execution_count": 3,
   "metadata": {},
   "outputs": [
    {
     "data": {
      "text/plain": [
       "\"[ Report de-identified ( Safe-harbor compliant ) by De-ID v.6.22.07.0]\\n\\n\\n\\n**INSTITUTION TRAUMA DISCHARGE SUMMARY PATIENT NAME : **NAME[AAA , BBB ] ACCOUNT # : **ID-NUM **ROOM ATTENDING PHYSICIAN : **NAME[YYY M ZZZ] ADMISSION DATE : **DATE[ Jan 01 2008 ] DISCHARGE DATE : **DATE[ Jan 03 2008 ] ADMISSION DIAGNOSIS : MOTOR VEHICLE COLLISION.\\nDISCHARGE DIAGNOSIS : MOTOR VEHICLE COLLISION.\\nATTENDING SURGEON : **NAME[YYY M. ZZZ] , M.D.\\nHISTORY OF PRESENT ILLNESS : This is a **AGE[in 30s]-year-old Caucasian female who was involved in a motor vehicle collision with a tree .\\nThis was thought to be a possible suicide attempt .\\nThe patient has a known history of depression and bipolar disorder .\\nHOSPITAL COURSE : X-ray and CT images of the patient were negative .\\nThe patient was evaluated by Psychiatry and felt that would require inpatient psychiatric care post discharge .\\nDISPOSITION : The patient was discharged to an inpatient psychiatric facility on hospital day number 2 in stable condition .\\nDISCHARGE INSTRUCTIONS : The patient was instructed in the **INSTITUTION in 2 weeks ' time .\\nShe is to resume a regular diet .\\nShe was instructed to lift nothing greater than 5 to 10 pounds .\\nShe is also instructed not to drive while taking pain medications .\\nShe is allowed to return to light work duties .\\nShe may attend school , but no physical activity .\\nDISCHARGE MEDICATIONS : 1 .\\nVicodin 5/500 1 to 2 tabs p.o . every 6 hours p.r.n . pain x60 tabs . 2.\\nTylenol 650 mg p.o . every 4 hours p.r.n . pain x30 tabs . 3.\\nSenokot-S 2 tabs p.o . bedtime p.r.n . while on pain medications x30 tabs .\\nShe is to resume her home medications .\\n\\n__ _ _ _ _ _ _ _ _ _ _ _ _ _ _ _ _ _ _ _ _ _ _ _ _ _ **NAME[YYY M ZZZ] , M.D.\\n\\nDictator : **NAME[WWW XXX] , M.D. **INITIALS D : **DATE[ Jan 03 2008 ] 12:01:53 T : **DATE[ Jan 03 2008 ] 13 :50:33 R: **DATE[ Jan 03 2008 ] 13 :50:33/kb Job ID : 330294/**ID-NUM\\n\\n*** Dictated By : -**NAME[XXX , SSS] *** Electronically Signed by **NAME[YYY ZZZ] **DATE[ Jan 16 2008 ] 03 :27 :19 PM\\n\\n\\n\\n\\n\\n\""
      ]
     },
     "execution_count": 3,
     "metadata": {},
     "output_type": "execute_result"
    }
   ],
   "source": [
    "df.loc[0,\"texts\"]"
   ]
  },
  {
   "cell_type": "code",
   "execution_count": 4,
   "metadata": {},
   "outputs": [],
   "source": [
    "df.drop(columns=\"Unnamed: 0\", inplace=True)"
   ]
  },
  {
   "cell_type": "code",
   "execution_count": 5,
   "metadata": {},
   "outputs": [],
   "source": [
    "import random\n",
    "\n",
    "annotators = [\"wonseok\",\"kiran\"]\n",
    "annotation_sequence = annotators * 25\n",
    "\n",
    "random.seed(0)\n",
    "random.shuffle(annotation_sequence)\n"
   ]
  },
  {
   "cell_type": "code",
   "execution_count": 6,
   "metadata": {},
   "outputs": [],
   "source": [
    "df[\"annotator\"] = annotation_sequence"
   ]
  },
  {
   "cell_type": "code",
   "execution_count": 7,
   "metadata": {},
   "outputs": [],
   "source": [
    "df.to_excel(DATA_PATH.joinpath(\"50_pittsburgh.xlsx\"))"
   ]
  },
  {
   "cell_type": "code",
   "execution_count": null,
   "metadata": {},
   "outputs": [],
   "source": []
  },
  {
   "cell_type": "code",
   "execution_count": null,
   "id": "e5c48c28",
   "metadata": {},
   "outputs": [],
   "source": [
    "import matplotlib.pyplot as plt\n",
    "\n",
    "plt.plot([1,2,3,4,5])\n",
    "plt.show()\n"
   ]
  }
 ],
 "metadata": {
  "kernelspec": {
   "display_name": "cn",
   "language": "python",
   "name": "python3"
  },
  "language_info": {
   "codemirror_mode": {
    "name": "ipython",
    "version": 3
   },
   "file_extension": ".py",
   "mimetype": "text/x-python",
   "name": "python",
   "nbconvert_exporter": "python",
   "pygments_lexer": "ipython3",
   "version": "3.12.5"
  }
 },
 "nbformat": 4,
 "nbformat_minor": 2
}
