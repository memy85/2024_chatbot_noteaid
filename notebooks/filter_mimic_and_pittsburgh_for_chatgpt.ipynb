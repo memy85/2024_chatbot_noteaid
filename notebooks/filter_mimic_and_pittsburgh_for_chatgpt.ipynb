{
 "cells": [
  {
   "cell_type": "code",
   "execution_count": 1,
   "metadata": {},
   "outputs": [],
   "source": [
    "import pandas as pd\n",
    "from utils import *\n",
    "\n",
    "config = load_config()\n",
    "PROJECT_PATH = config.project_path\n",
    "DATA_PATH = PROJECT_PATH.joinpath(\"data/processed\")"
   ]
  },
  {
   "cell_type": "markdown",
   "metadata": {},
   "source": [
    "first process pittsburgh"
   ]
  },
  {
   "cell_type": "code",
   "execution_count": 2,
   "metadata": {},
   "outputs": [],
   "source": [
    "df = pd.read_excel(DATA_PATH.joinpath(\"pittsburg_dataset.xlsx\"))\n",
    "df.drop(columns='Unnamed: 0', inplace=True)"
   ]
  },
  {
   "cell_type": "code",
   "execution_count": 3,
   "metadata": {},
   "outputs": [],
   "source": [
    "used_pittsburg = pd.read_excel(DATA_PATH.joinpath(\"50_pittsburgh.xlsx\"))"
   ]
  },
  {
   "cell_type": "code",
   "execution_count": 4,
   "metadata": {},
   "outputs": [],
   "source": [
    "unused_pits = df[~df.reportID.isin(used_pittsburg.reportID)].copy()"
   ]
  },
  {
   "cell_type": "markdown",
   "metadata": {},
   "source": [
    "We do mimic"
   ]
  },
  {
   "cell_type": "code",
   "execution_count": 5,
   "metadata": {},
   "outputs": [],
   "source": [
    "# load mimic dataset\n",
    "\n",
    "df = pd.read_csv(\"/data/corpora_alpha/MIMIC/physionet.org/files/mimic-iv-note/2.2/note/discharge.csv.gz\", compression=\"gzip\")"
   ]
  },
  {
   "cell_type": "code",
   "execution_count": 9,
   "metadata": {},
   "outputs": [
    {
     "data": {
      "text/plain": [
       "331794"
      ]
     },
     "execution_count": 9,
     "metadata": {},
     "output_type": "execute_result"
    }
   ],
   "source": [
    "df.note_id.nunique()"
   ]
  },
  {
   "cell_type": "code",
   "execution_count": 7,
   "metadata": {},
   "outputs": [
    {
     "name": "stdout",
     "output_type": "stream",
     "text": [
      "/home/wjang/2024_chatbot_noteaid/data/raw/representative_notes_50_new.xlsx\n"
     ]
    }
   ],
   "source": [
    "used_mimic = config.representative_notes"
   ]
  },
  {
   "cell_type": "code",
   "execution_count": 13,
   "metadata": {},
   "outputs": [],
   "source": [
    "unused_mimic = df[~df.note_id.isin(used_mimic.note_id)].copy()"
   ]
  },
  {
   "cell_type": "markdown",
   "metadata": {},
   "source": [
    "Summary"
   ]
  },
  {
   "cell_type": "code",
   "execution_count": 14,
   "metadata": {},
   "outputs": [
    {
     "data": {
      "text/plain": [
       "(331744, 8)"
      ]
     },
     "execution_count": 14,
     "metadata": {},
     "output_type": "execute_result"
    }
   ],
   "source": [
    "unused_mimic.shape"
   ]
  },
  {
   "cell_type": "code",
   "execution_count": 15,
   "metadata": {},
   "outputs": [
    {
     "data": {
      "text/plain": [
       "(7789, 2)"
      ]
     },
     "execution_count": 15,
     "metadata": {},
     "output_type": "execute_result"
    }
   ],
   "source": [
    "unused_pits.shape"
   ]
  },
  {
   "cell_type": "code",
   "execution_count": 30,
   "metadata": {},
   "outputs": [],
   "source": [
    "unused_mimic.to_pickle(DATA_PATH.joinpath(\"unused_mimic.pkl\"))\n",
    "unused_pits.to_pickle(DATA_PATH.joinpath(\"unused_pitts.pkl\"))"
   ]
  },
  {
   "cell_type": "code",
   "execution_count": 32,
   "metadata": {},
   "outputs": [
    {
     "data": {
      "text/plain": [
       "'[ Report de-identified ( Safe-harbor compliant ) by De-ID v.6.22.07.0]\\n\\n\\nFINAL DIAGNOSES AND REASON FOR ADMISSION : 1 .\\nAcute sigmoid diverticulitis . 2.\\nHematuria . 3.\\nCholestatic jaundice . 4 .\\nGallstones . 5 .\\nChronic kidney disease . 6 .\\nStatus post oophorectomy . 7.\\nHypertension . 8.\\nFibroid uterus .\\n\\nPROCEDURES DONE ON THE PATIENT : Cystoscopy and MRCP.\\n\\nHOSPITAL COURSE : The patient came to the hospital with abdominal pain and was treated for diverticulitis .\\nThe patient had elevated liver enzymes during her stay in the hospital .\\nThe ultrasound showed gallstones .\\nThe CT scan of the abdomen showed acute sigmoid diverticulitis , along with gallstones .\\nShe was treated with Cipro and Flagyl for diverticulitis .\\nShe had a cystoscopy done for hematuria , which revealed normal study .\\nThe MRCP revealed normal study .\\nHer liver function tests during the discharge were a total bilirubin of 1.15 , direct 0.53 .\\nAST 42 , alkaline phosphatase 156 .\\nDuring her admission the total bilirubin was 4.11 , and direct was 3.18 .\\nThe patient denies any complaints during discharge .\\n\\nDISCHARGE SUMMARY : The patient is being discharged home on **DATE[ Mar 3 2007] with special diet instruction to drink Boost with meals , with follow up with Dr. **NAME[VVV] in one week , with Dr. **NAME[ZZZ] in one week with liver function tests in one week .\\n\\nDISCHARGE MEDICATIONS : 1 .\\nCipro 500 mg __ _ _ _ _ _ _ _ _ p.o . for five days . 2.\\nFlagyl 500-mg tablet , a tablet p.o . for five days . 3.\\nLisinopril 10 mg daily by mouth .\\n\\n\\n__ _ _ _ _ _ _ _ _ _ _ _ _ _ _ _ _ _ _ _ _ _ _ _ _ _ _ _ _ **NAME[WWW XXX] , M.D.\\n\\nHS Job # 253887 / 34843 / # **ID-NUM D : **DATE[ Mar 03 2007] 12:14 T : **DATE[ Mar 04 2007] 13:33\\n\\n\\n\\n\\n\\n'"
      ]
     },
     "execution_count": 32,
     "metadata": {},
     "output_type": "execute_result"
    }
   ],
   "source": [
    "unused_pits.texts[0]"
   ]
  },
  {
   "cell_type": "code",
   "execution_count": 22,
   "metadata": {},
   "outputs": [],
   "source": [
    "df = pd.read_pickle(DATA_PATH.joinpath(\"unused_mimic.pkl\"))"
   ]
  },
  {
   "cell_type": "code",
   "execution_count": 24,
   "metadata": {},
   "outputs": [],
   "source": [
    "df = df.rename(columns={\"text\": \"texts\"})"
   ]
  },
  {
   "cell_type": "code",
   "execution_count": 25,
   "metadata": {},
   "outputs": [],
   "source": [
    "import random\n",
    "df.sample(10000, random_state=0).to_pickle(DATA_PATH.joinpath(\"unused_mimic_sample.pkl\"))"
   ]
  },
  {
   "cell_type": "code",
   "execution_count": 4,
   "metadata": {},
   "outputs": [],
   "source": [
    "import pandas as pd\n",
    "from utils import *\n",
    "\n",
    "config = load_config()\n",
    "PROJECT_PATH = config.project_path\n",
    "DATA_PATH = PROJECT_PATH.joinpath(\"data/processed\")\n",
    "\n",
    "data = pd.read_pickle(DATA_PATH.joinpath(\"unused_mimic_sample.pkl\"))"
   ]
  },
  {
   "cell_type": "code",
   "execution_count": null,
   "metadata": {},
   "outputs": [],
   "source": [
    "data = data.sample(100)"
   ]
  },
  {
   "cell_type": "code",
   "execution_count": 14,
   "metadata": {},
   "outputs": [
    {
     "data": {
      "text/html": [
       "<div>\n",
       "<style scoped>\n",
       "    .dataframe tbody tr th:only-of-type {\n",
       "        vertical-align: middle;\n",
       "    }\n",
       "\n",
       "    .dataframe tbody tr th {\n",
       "        vertical-align: top;\n",
       "    }\n",
       "\n",
       "    .dataframe thead th {\n",
       "        text-align: right;\n",
       "    }\n",
       "</style>\n",
       "<table border=\"1\" class=\"dataframe\">\n",
       "  <thead>\n",
       "    <tr style=\"text-align: right;\">\n",
       "      <th></th>\n",
       "      <th>note_id</th>\n",
       "      <th>subject_id</th>\n",
       "      <th>hadm_id</th>\n",
       "      <th>note_type</th>\n",
       "      <th>note_seq</th>\n",
       "      <th>charttime</th>\n",
       "      <th>storetime</th>\n",
       "      <th>texts</th>\n",
       "    </tr>\n",
       "  </thead>\n",
       "  <tbody>\n",
       "    <tr>\n",
       "      <th>329834</th>\n",
       "      <td>19937555-DS-8</td>\n",
       "      <td>19937555</td>\n",
       "      <td>23138501</td>\n",
       "      <td>DS</td>\n",
       "      <td>8</td>\n",
       "      <td>2150-12-01 00:00:00</td>\n",
       "      <td>2150-12-01 07:34:00</td>\n",
       "      <td>\\nName:  ___                    Unit No:   __...</td>\n",
       "    </tr>\n",
       "    <tr>\n",
       "      <th>223486</th>\n",
       "      <td>16757061-DS-5</td>\n",
       "      <td>16757061</td>\n",
       "      <td>26732232</td>\n",
       "      <td>DS</td>\n",
       "      <td>5</td>\n",
       "      <td>2145-08-13 00:00:00</td>\n",
       "      <td>2145-08-13 19:13:00</td>\n",
       "      <td>\\nName:  ___                  Unit No:   ___\\...</td>\n",
       "    </tr>\n",
       "    <tr>\n",
       "      <th>126429</th>\n",
       "      <td>13826513-DS-16</td>\n",
       "      <td>13826513</td>\n",
       "      <td>23290385</td>\n",
       "      <td>DS</td>\n",
       "      <td>16</td>\n",
       "      <td>2111-08-13 00:00:00</td>\n",
       "      <td>2111-08-13 22:47:00</td>\n",
       "      <td>\\nName:  ___                Unit No:   ___\\n ...</td>\n",
       "    </tr>\n",
       "    <tr>\n",
       "      <th>135448</th>\n",
       "      <td>14090748-DS-16</td>\n",
       "      <td>14090748</td>\n",
       "      <td>21011199</td>\n",
       "      <td>DS</td>\n",
       "      <td>16</td>\n",
       "      <td>2130-07-11 00:00:00</td>\n",
       "      <td>2130-07-12 16:05:00</td>\n",
       "      <td>\\nName:  ___                 Unit No:   ___\\n...</td>\n",
       "    </tr>\n",
       "    <tr>\n",
       "      <th>76311</th>\n",
       "      <td>12327003-DS-16</td>\n",
       "      <td>12327003</td>\n",
       "      <td>23268045</td>\n",
       "      <td>DS</td>\n",
       "      <td>16</td>\n",
       "      <td>2184-07-20 00:00:00</td>\n",
       "      <td>2184-07-20 14:56:00</td>\n",
       "      <td>\\nName:  ___                     Unit No:   _...</td>\n",
       "    </tr>\n",
       "  </tbody>\n",
       "</table>\n",
       "</div>"
      ],
      "text/plain": [
       "               note_id  subject_id   hadm_id note_type  note_seq  \\\n",
       "329834   19937555-DS-8    19937555  23138501        DS         8   \n",
       "223486   16757061-DS-5    16757061  26732232        DS         5   \n",
       "126429  13826513-DS-16    13826513  23290385        DS        16   \n",
       "135448  14090748-DS-16    14090748  21011199        DS        16   \n",
       "76311   12327003-DS-16    12327003  23268045        DS        16   \n",
       "\n",
       "                  charttime            storetime  \\\n",
       "329834  2150-12-01 00:00:00  2150-12-01 07:34:00   \n",
       "223486  2145-08-13 00:00:00  2145-08-13 19:13:00   \n",
       "126429  2111-08-13 00:00:00  2111-08-13 22:47:00   \n",
       "135448  2130-07-11 00:00:00  2130-07-12 16:05:00   \n",
       "76311   2184-07-20 00:00:00  2184-07-20 14:56:00   \n",
       "\n",
       "                                                    texts  \n",
       "329834   \\nName:  ___                    Unit No:   __...  \n",
       "223486   \\nName:  ___                  Unit No:   ___\\...  \n",
       "126429   \\nName:  ___                Unit No:   ___\\n ...  \n",
       "135448   \\nName:  ___                 Unit No:   ___\\n...  \n",
       "76311    \\nName:  ___                     Unit No:   _...  "
      ]
     },
     "execution_count": 14,
     "metadata": {},
     "output_type": "execute_result"
    }
   ],
   "source": [
    "data.head()"
   ]
  },
  {
   "cell_type": "code",
   "execution_count": 12,
   "metadata": {},
   "outputs": [],
   "source": [
    "from transformers import AutoTokenizer\n",
    "\n",
    "path = config.model_path(\"llama3.2-1B\")\n",
    "tokenizer = AutoTokenizer.from_pretrained(path)"
   ]
  },
  {
   "cell_type": "code",
   "execution_count": 31,
   "metadata": {},
   "outputs": [],
   "source": [
    "counts = []\n",
    "words = []\n",
    "for idx, row in data.iterrows() :\n",
    "    words.append(len(row['texts'].split()))\n",
    "    length = len(tokenizer.tokenize(row['texts']))\n",
    "    counts.append(length)\n",
    "    \n"
   ]
  },
  {
   "cell_type": "code",
   "execution_count": 33,
   "metadata": {},
   "outputs": [
    {
     "data": {
      "text/plain": [
       "(3173.73, 1637.55)"
      ]
     },
     "execution_count": 33,
     "metadata": {},
     "output_type": "execute_result"
    }
   ],
   "source": [
    "import numpy as np\n",
    "\n",
    "np.array(counts).mean(), np.array(words).mean()"
   ]
  }
 ],
 "metadata": {
  "kernelspec": {
   "display_name": "cn",
   "language": "python",
   "name": "python3"
  },
  "language_info": {
   "codemirror_mode": {
    "name": "ipython",
    "version": 3
   },
   "file_extension": ".py",
   "mimetype": "text/x-python",
   "name": "python",
   "nbconvert_exporter": "python",
   "pygments_lexer": "ipython3",
   "version": "3.12.5"
  }
 },
 "nbformat": 4,
 "nbformat_minor": 2
}
