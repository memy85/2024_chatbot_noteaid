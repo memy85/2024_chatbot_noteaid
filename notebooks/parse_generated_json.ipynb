{
 "cells": [
  {
   "cell_type": "code",
   "execution_count": 1,
   "metadata": {},
   "outputs": [],
   "source": [
    "import json\n",
    "from utils import *\n",
    "\n",
    "config = load_config()\n",
    "PROJECT_PATH = config.project_path\n",
    "DATA_PATH = PROJECT_PATH.joinpath(\"data/processed\")"
   ]
  },
  {
   "cell_type": "code",
   "execution_count": 2,
   "metadata": {},
   "outputs": [
    {
     "name": "stderr",
     "output_type": "stream",
     "text": [
      "/home/wjang/miniconda3/envs/cn/lib/python3.12/site-packages/tqdm/auto.py:21: TqdmWarning: IProgress not found. Please update jupyter and ipywidgets. See https://ipywidgets.readthedocs.io/en/stable/user_install.html\n",
      "  from .autonotebook import tqdm as notebook_tqdm\n"
     ]
    }
   ],
   "source": [
    "from datasets import load_dataset \n",
    "\n",
    "df = pd.read_pickle(DATA_PATH.joinpath(\"mimic_chat.pkl\"))"
   ]
  },
  {
   "cell_type": "code",
   "execution_count": 3,
   "metadata": {},
   "outputs": [
    {
     "data": {
      "text/plain": [
       "{'messages': [{'role': 'system',\n",
       "   'content': 'You are a helpful assistant trained for healthcare-related text processing'},\n",
       "  {'role': 'doctor', 'content': 'Hi, how can I help you today?'},\n",
       "  {'role': 'patient',\n",
       "   'content': 'I have some questions about my discharge instructions related to my hospital stay.'},\n",
       "  {'role': 'doctor',\n",
       "   'content': 'Sure, I’m here to help. You were admitted because of a condition called \"febrile neutropenia,\" which means you had a fever and low white blood cell count, making you prone to infections [Discharge Diagnosis].'},\n",
       "  {'role': 'patient',\n",
       "   'content': 'Okay, and how was I treated during my stay?'},\n",
       "  {'role': 'doctor',\n",
       "   'content': 'While you were in the hospital, you received intravenous antibiotics to fight any potential infections [Discharge Instructions]. Your white blood cell counts returned to normal by the next day [Brief Hospital Course].'},\n",
       "  {'role': 'patient', 'content': \"And what should I do once I'm at home?\"},\n",
       "  {'role': 'doctor',\n",
       "   'content': \"You need to complete a 5-day course of an oral antibiotic called Ciprofloxacin. It's important to take this medication as prescribed to prevent any infection from occurring [Discharge Instructions].\"},\n",
       "  {'role': 'patient',\n",
       "   'content': 'What should I look out for in case of any issues?'},\n",
       "  {'role': 'doctor',\n",
       "   'content': 'If you experience symptoms like fevers, chills, a cough, pain when urinating, confusion, severe headaches, or any other signs that might suggest an infection, you should call your doctor or go to the emergency room [Discharge Instructions].'},\n",
       "  {'role': 'patient',\n",
       "   'content': \"Thank you, that's helpful. What about my regular medications?\"},\n",
       "  {'role': 'doctor',\n",
       "   'content': 'Your regular medications on discharge include Vitamin D3, Calcium Carbonate, Omeprazole, Metoprolol, and Triamterene-Hydrochlorothiazide [Discharge Medications]. Just keep taking them as directed on the labels.'},\n",
       "  {'role': 'patient', 'content': 'Got it. Thank you for the information.'},\n",
       "  {'role': 'doctor',\n",
       "   'content': \"You're welcome. If you have any more questions or concerns, feel free to reach out. Take care!\"}]}"
      ]
     },
     "execution_count": 3,
     "metadata": {},
     "output_type": "execute_result"
    }
   ],
   "source": [
    "df.loc[0,'reformatted_output']"
   ]
  },
  {
   "cell_type": "code",
   "execution_count": 4,
   "metadata": {},
   "outputs": [
    {
     "data": {
      "text/plain": [
       "(10000, 9)"
      ]
     },
     "execution_count": 4,
     "metadata": {},
     "output_type": "execute_result"
    }
   ],
   "source": [
    "df.shape"
   ]
  },
  {
   "cell_type": "code",
   "execution_count": 5,
   "metadata": {},
   "outputs": [],
   "source": [
    "from datasets import load_dataset \n",
    "\n",
    "df = pd.read_pickle(DATA_PATH.joinpath(\"pittsburgh_chat.pkl\"))"
   ]
  },
  {
   "cell_type": "code",
   "execution_count": 6,
   "metadata": {},
   "outputs": [
    {
     "data": {
      "text/plain": [
       "(7789, 3)"
      ]
     },
     "execution_count": 6,
     "metadata": {},
     "output_type": "execute_result"
    }
   ],
   "source": [
    "df.shape"
   ]
  }
 ],
 "metadata": {
  "kernelspec": {
   "display_name": "cn",
   "language": "python",
   "name": "python3"
  },
  "language_info": {
   "codemirror_mode": {
    "name": "ipython",
    "version": 3
   },
   "file_extension": ".py",
   "mimetype": "text/x-python",
   "name": "python",
   "nbconvert_exporter": "python",
   "pygments_lexer": "ipython3",
   "version": "3.12.5"
  }
 },
 "nbformat": 4,
 "nbformat_minor": 2
}
