{
 "cells": [
  {
   "cell_type": "code",
   "execution_count": null,
   "id": "2461eed0",
   "metadata": {},
   "outputs": [],
   "source": [
    "from utils import *\n",
    "\n",
    "config = load_config()\n",
    "PROJECT_PATH = config.project_path\n",
    "DATA_PATH = PROJECT_PATH.joinpath(\"data/processed\")\n",
    "\n",
    "with open(DATA_PATH.joinpath(\"gpt4o_mini_generated_synthetic_notes_2.pkl\"), \"rb\") as f :\n",
    "    synthetic_notes = pickle.load(f)"
   ]
  },
  {
   "cell_type": "code",
   "execution_count": null,
   "id": "80e3c1a4",
   "metadata": {},
   "outputs": [],
   "source": [
    "import pandas as pd\n",
    "df = pd.DataFrame(synthetic_notes)"
   ]
  },
  {
   "cell_type": "code",
   "execution_count": null,
   "id": "ddd49985",
   "metadata": {},
   "outputs": [],
   "source": [
    "print(df.loc[0,\"note\"])"
   ]
  }
 ],
 "metadata": {
  "jupytext": {
   "cell_metadata_filter": "-all"
  },
  "kernelspec": {
   "display_name": "Python 3 (ipykernel)",
   "language": "python",
   "name": "python3"
  }
 },
 "nbformat": 4,
 "nbformat_minor": 5
}
