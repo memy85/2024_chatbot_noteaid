
# ---
# jupyter:
#   jupytext:
#     text_representation:
#       extension: .py
#       format_name: hydrogen
#       format_version: '1.3'
#       jupytext_version: 1.16.6
#   kernelspec:
#     display_name: cn
#     language: python
#     name: python3
# ---

# %%
# start
from utils import *
import pandas as pd
import matplotlib.pyplot as plt
import seaborn as sns

config = load_config()
PROJECT_PATH = config.project_path
DATA_PATH = PROJECT_PATH.joinpath("data/processed")
counts = 10000

with open(DATA_PATH.joinpath(f"gpt4o_mini_generated_synthetic_notes_{counts}.pkl"), 'rb') as f :
    samples = pickle.load(f)


# %% [markdown]
# Now we read the samples.

# %%
samples[0]

# %%
df = pd.DataFrame(samples)
print(df.loc[10,'note'])

# %%
sample = df.loc[10, 'note']

# %%
import re

def extract_gender(text) :
    out = re.findall("Sex: (\w+)", text)
    return out[0]

def extract_cc(text) :
    out = re.findall("Chief Complaint:\s*(.+)", text)
    return out[0]
    


# %%
sample = df.loc[3, 'note']
extract_gender(sample)
extract_cc(sample)

# %%

