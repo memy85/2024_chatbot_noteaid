{
 "cells": [
  {
   "cell_type": "code",
   "execution_count": null,
   "metadata": {},
   "outputs": [],
   "source": [
    "# start\n",
    "from utils import *\n",
    "import pandas as pd\n",
    "\n",
    "config = load_config()\n",
    "PROJECT_PATH = config.project_path\n",
    "DATA_PATH = PROJECT_PATH.joinpath(\"data/processed\")\n",
    "counts = 2\n",
    "\n",
    "with open(DATA_PATH.joinpath(f\"gpt4o_mini_generated_synthetic_notes_{counts}.pkl\"), 'rb') as f :\n",
    "    samples = pickle.load(f)\n"
   ]
  },
  {
   "cell_type": "markdown",
   "id": "1cb5729b",
   "metadata": {},
   "source": [
    "Now we read the samples."
   ]
  },
  {
   "cell_type": "code",
   "execution_count": null,
   "id": "00a4c834",
   "metadata": {},
   "outputs": [],
   "source": [
    "df = pd.DataFrame(samples)\n",
    "print(df.loc[1,'note'])\n"
   ]
  }
 ],
 "metadata": {
  "kernelspec": {
   "display_name": "cn",
   "language": "python",
   "name": "python3"
  },
  "language_info": {
   "name": "python",
   "version": "3.12.5"
  }
 },
 "nbformat": 4,
 "nbformat_minor": 2
}
