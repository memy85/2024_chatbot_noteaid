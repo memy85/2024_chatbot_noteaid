{
 "cells": [
  {
   "cell_type": "code",
   "execution_count": 1,
   "metadata": {},
   "outputs": [
    {
     "name": "stderr",
     "output_type": "stream",
     "text": [
      "/home/wjang/miniconda3/envs/cn/lib/python3.12/site-packages/tqdm/auto.py:21: TqdmWarning: IProgress not found. Please update jupyter and ipywidgets. See https://ipywidgets.readthedocs.io/en/stable/user_install.html\n",
      "  from .autonotebook import tqdm as notebook_tqdm\n"
     ]
    }
   ],
   "source": [
    "from utils import *\n",
    "from transformers import AutoTokenizer\n",
    "import pandas as pd\n",
    "import numpy as np\n",
    "import re\n",
    "\n",
    "config = load_config()\n",
    "PROJECT_PATH = config.project_path\n",
    "DATA_PATH = PROJECT_PATH.joinpath(\"data/processed\")\n",
    "MODEL_PATH = config.model_path(\"llama3.2-1B\")\n",
    "tokenizer = AutoTokenizer.from_pretrained(MODEL_PATH)"
   ]
  },
  {
   "cell_type": "code",
   "execution_count": 2,
   "metadata": {},
   "outputs": [],
   "source": [
    "# evaluate train\n",
    "dataset = pd.read_pickle(DATA_PATH.joinpath(\"evaluation_results_train.pkl\"))\n",
    "\n",
    "def extract_content_criteria(output) :\n",
    "    result = []\n",
    "    for out in output :\n",
    "        criteria = re.findall(r\"c\\d\", out)\n",
    "        if len(criteria) > 0 :\n",
    "            result.extend(criteria)\n",
    "        else : \n",
    "            pass\n",
    "    return result\n",
    "\n"
   ]
  },
  {
   "cell_type": "code",
   "execution_count": 3,
   "metadata": {},
   "outputs": [],
   "source": [
    "criteria_list = []\n",
    "for data in dataset :\n",
    "    criteria_list.append(extract_content_criteria(data))"
   ]
  },
  {
   "cell_type": "code",
   "execution_count": 4,
   "metadata": {
    "lines_to_next_cell": 2
   },
   "outputs": [
    {
     "data": {
      "text/html": [
       "<div>\n",
       "<style scoped>\n",
       "    .dataframe tbody tr th:only-of-type {\n",
       "        vertical-align: middle;\n",
       "    }\n",
       "\n",
       "    .dataframe tbody tr th {\n",
       "        vertical-align: top;\n",
       "    }\n",
       "\n",
       "    .dataframe thead th {\n",
       "        text-align: right;\n",
       "    }\n",
       "</style>\n",
       "<table border=\"1\" class=\"dataframe\">\n",
       "  <thead>\n",
       "    <tr style=\"text-align: right;\">\n",
       "      <th></th>\n",
       "      <th>c1</th>\n",
       "      <th>c2</th>\n",
       "      <th>c3</th>\n",
       "      <th>c4</th>\n",
       "      <th>c5</th>\n",
       "      <th>c6</th>\n",
       "    </tr>\n",
       "  </thead>\n",
       "  <tbody>\n",
       "    <tr>\n",
       "      <th>count</th>\n",
       "      <td>0</td>\n",
       "      <td>0</td>\n",
       "      <td>0</td>\n",
       "      <td>0</td>\n",
       "      <td>0</td>\n",
       "      <td>0</td>\n",
       "    </tr>\n",
       "  </tbody>\n",
       "</table>\n",
       "</div>"
      ],
      "text/plain": [
       "       c1  c2  c3  c4  c5  c6\n",
       "count   0   0   0   0   0   0"
      ]
     },
     "execution_count": 4,
     "metadata": {},
     "output_type": "execute_result"
    }
   ],
   "source": [
    "df = pd.DataFrame([{\"c1\" : 0, \"c2\" : 0, \"c3\" : 0, \"c4\" : 0, \"c5\" : 0, \"c6\" : 0}], index=[\"count\"])\n",
    "df"
   ]
  },
  {
   "cell_type": "code",
   "execution_count": 5,
   "metadata": {},
   "outputs": [],
   "source": [
    "for criteria in criteria_list :\n",
    "    for c in criteria :\n",
    "        df.loc[\"count\", c] += 1"
   ]
  },
  {
   "cell_type": "code",
   "execution_count": 9,
   "metadata": {
    "lines_to_next_cell": 2
   },
   "outputs": [],
   "source": [
    "information = {\"c1\" : \"Return to the ED/Hospital indications\",\n",
    "               \"c2\" : \"Medication\",\n",
    "               \"c3\" : \"Diagnosis\",\n",
    "               \"c4\" : \"Postdischarge treatment\",\n",
    "               \"c5\" : \"Tests and Treatments\",\n",
    "               \"c6\" : \"Follow-up\"}"
   ]
  },
  {
   "cell_type": "code",
   "execution_count": 6,
   "metadata": {},
   "outputs": [
    {
     "data": {
      "text/plain": [
       "c1     4575\n",
       "c2    29165\n",
       "c3    33499\n",
       "c4     8375\n",
       "c5    17962\n",
       "c6    68674\n",
       "Name: count, dtype: int64"
      ]
     },
     "execution_count": 6,
     "metadata": {},
     "output_type": "execute_result"
    }
   ],
   "source": [
    "df.loc['count',:]"
   ]
  },
  {
   "cell_type": "code",
   "execution_count": 7,
   "metadata": {},
   "outputs": [
    {
     "data": {
      "text/html": [
       "<div>\n",
       "<style scoped>\n",
       "    .dataframe tbody tr th:only-of-type {\n",
       "        vertical-align: middle;\n",
       "    }\n",
       "\n",
       "    .dataframe tbody tr th {\n",
       "        vertical-align: top;\n",
       "    }\n",
       "\n",
       "    .dataframe thead th {\n",
       "        text-align: right;\n",
       "    }\n",
       "</style>\n",
       "<table border=\"1\" class=\"dataframe\">\n",
       "  <thead>\n",
       "    <tr style=\"text-align: right;\">\n",
       "      <th></th>\n",
       "      <th>c1</th>\n",
       "      <th>c2</th>\n",
       "      <th>c3</th>\n",
       "      <th>c4</th>\n",
       "      <th>c5</th>\n",
       "      <th>c6</th>\n",
       "    </tr>\n",
       "  </thead>\n",
       "  <tbody>\n",
       "    <tr>\n",
       "      <th>count</th>\n",
       "      <td>4575</td>\n",
       "      <td>29165</td>\n",
       "      <td>33499</td>\n",
       "      <td>8375</td>\n",
       "      <td>17962</td>\n",
       "      <td>68674</td>\n",
       "    </tr>\n",
       "  </tbody>\n",
       "</table>\n",
       "</div>"
      ],
      "text/plain": [
       "         c1     c2     c3    c4     c5     c6\n",
       "count  4575  29165  33499  8375  17962  68674"
      ]
     },
     "execution_count": 7,
     "metadata": {},
     "output_type": "execute_result"
    }
   ],
   "source": [
    "df"
   ]
  },
  {
   "cell_type": "code",
   "execution_count": 10,
   "metadata": {},
   "outputs": [
    {
     "data": {
      "image/png": "[encoded data removed]",
      "text/plain": [
       "<Figure size 500x200 with 1 Axes>"
      ]
     },
     "metadata": {},
     "output_type": "display_data"
    }
   ],
   "source": [
    "import matplotlib\n",
    "import matplotlib.pyplot as plt\n",
    "import seaborn as sns\n",
    "# plt.rcParams['text.usetex'] = False\n",
    "# plt.rcParams['font.family'] = 'sans'\n",
    "# matplotlib.use('TkAgg')\n",
    "sns.set_style('ticks')\n",
    "plt.figure(figsize = (5,2))\n",
    "# plt.barplot([f'c{d}' for d in range(1,7)],df.loc['count'], color='c')\n",
    "sns.barplot(y=information.values(), x=df.loc['count',], width=0.4, orient='h')\n",
    "sns.despine(offset=0, trim=True)\n",
    "plt.xlabel(\"Counts\")\n",
    "plt.ylabel(\"Categories\")\n",
    "# plt.legend()\n",
    "# plt.savefig(\"../figures/criteria_train.jpg\", dpi=300)\n",
    "plt.show()"
   ]
  },
  {
   "cell_type": "code",
   "execution_count": 13,
   "metadata": {},
   "outputs": [],
   "source": [
    "# load dataset\n",
    "from datasets import load_dataset, concatenate_datasets\n",
    "\n",
    "def load_datasets() :\n",
    "\n",
    "    data = load_dataset(\"json\", data_files={\"train\" : DATA_PATH.joinpath(\"train_conversation.jsonl\").as_posix(),\n",
    "                                    \"test\" : DATA_PATH.joinpath(\"test_conversation.jsonl\").as_posix()})\n",
    "    return data"
   ]
  },
  {
   "cell_type": "code",
   "execution_count": 3,
   "metadata": {},
   "outputs": [],
   "source": [
    "ds = load_datasets()"
   ]
  },
  {
   "cell_type": "code",
   "execution_count": null,
   "id": "7ea29947",
   "metadata": {},
   "outputs": [],
   "source": [
    "ds['train']['messages'][0]"
   ]
  },
  {
   "cell_type": "code",
   "execution_count": 18,
   "metadata": {},
   "outputs": [],
   "source": [
    "# parse train/test to one dataset\n",
    "merged_dataset = concatenate_datasets([ds[\"train\"], ds[\"test\"]])"
   ]
  },
  {
   "cell_type": "code",
   "execution_count": null,
   "metadata": {},
   "outputs": [],
   "source": [
    "# analyze train/test to dataset \n",
    "\n",
    "\n"
   ]
  },
  {
   "cell_type": "code",
   "execution_count": null,
   "metadata": {},
   "outputs": [
    {
     "data": {
      "text/plain": [
       "'  \\nName:  ___                       Unit No:   ___\\n \\nAdmission Date:  ___              Discharge Date:   ___\\n \\nDate of Birth:  ___             Sex:   F\\n \\nService: MEDICINE\\n \\nAllergies: \\nACE Inhibitors / Lescol / simvastatin\\n \\nAttending: ___.\\n \\nChief Complaint:\\nNeutropenic fever\\n \\nMajor Surgical or Invasive Procedure:\\nNone\\n \\nHistory of Present Illness:\\nMs. ___ is a pleasant ___ w/ HTN, DL, NSTEMI, L parietal \\nmeningioma, and polycythemia ___ transformed to AML s/p MUD RIC \\nallo HSCT ___ w/ relapse, now on decitabine, who p/w fevers \\nand muscle aches, tmax 100.4 after receiving dacogen and \\nplatelets yesterday. SHe has no localizing sx. \\n\\nIn ED fever improved, tmax 99.4F. Remaining VS unremarkable. \\nReceived vanc/cef and admitted. On arrival to ___, pt noted she \\nfelt significantly improved and back to her baseline. \\n\\nREVIEW OF SYSTEMS: 12 point ROS reviewed in detail and negative \\nexcept for what is\\nmentioned above in HPI\\n \\nPast Medical History:\\n-Polycythemia ___, JAK2 heterozygous, with transformation to \\nacute myeloid leukemia\\n-Cavernous sinus thrombosis\\n-Left parietal meningioma\\n-Hypertension\\n-Dyslipidemia\\n-Depression \\n-NSTEMI-demand ischemia\\n \\nSocial History:\\n___\\nFamily History:\\nMother has ovarian cancer in her ___\\nBrother pancreatic cancer\\nFather had heart disease\\n \\nPhysical Exam:\\nADMISSION PHYSICAL EXAM:\\nVITAL SIGNS: 99.0 PO 149 / 80 83 18 95 Ra\\nGeneral:  NAD, Resting in bed comfortably\\nHEENT:  MM dry, no OP lesions \\nCV:  RR, NL ___ SEM R ICS (admits to murmur since \\nchildhood)\\nPULM:  CTAB, No C/W/R, No respiratory distress\\nABD:  BS+, soft, NTND, no peritoneal signs \\nLIMBS: WWP, no ___, no tremors\\nSKIN:  No notable rashes on trunk nor extremities aside from \\nscattered small ecchymosis on the ext\\nNEURO: CN III-XII intact, strength b/l ___ intact\\nPSYCH: Thought process logical, linear, future oriented\\nACCESS: R subclavian tunneled line, insertion site intact w/o \\nany pus or discharge\\n\\nDISCHARGE PHYSICAL EXAM:\\nVITAL SIGNS: 24 HR Data (last updated ___ @ 704)\\n    Temp: 98.8 (Tm 99.9), BP: 119/62 (104-131/62-79), HR: 68\\n(59-74), RR: 18 (___), O2 sat: 99% (97-99), O2 delivery: RA,\\nWt: 170.6 lb/77.38 kg   \\nGeneral:  NAD, Resting in bed\\nHEENT:  MMM, no OP lesions, sinuses are non tender to palpation\\nCV:  RR, NL ___ SEM R ICS (admits to murmur since \\nchildhood)\\nPULM:  CTAB, No C/W/R, No respiratory distress\\nABD:  BS+, soft, NTND, no peritoneal signs \\nLIMBS: WWP, mild swelling along the right lateral knee, non \\ntender to palpation, no erythema or warmth \\nSKIN:  No notable rashes on trunk nor extremities aside from \\nscattered small ecchymosis on the ext\\nACCESS: R subclavian tunneled line, insertion site intact w/o \\nany pus or discharge\\n \\nPertinent Results:\\nADMISSION LABS ___:\\n=============================\\nWBC-0.9* RBC-2.52* Hgb-8.0* Hct-23.9* MCV-95 MCH-31.7 MCHC-33.5 \\nRDW-16.3* RDWSD-55.1* Plt Ct-23*\\nNeuts-14* Bands-0 Lymphs-69* Monos-5 Eos-2 Baso-0 Atyps-0 \\n___ Myelos-0 Blasts-10* NRBC-2* AbsNeut-0.13* AbsLymp-0.62* \\nAbsMono-0.05* AbsEos-0.02* AbsBaso-0.00*\\nUreaN-26* Creat-1.2* Na-137 K-4.4 Cl-99 HCO3-25 AnGap-13\\nAlbumin-4.1 Calcium-9.4 Phos-3.8 Mg-2.3\\nINR-1.2*\\nALT-17 AST-16 AlkPhos-98 TotBili-0.5 Lipase-15\\nLactate-1.5\\n\\nRELEVANT LABS:\\n=============================\\n___ Lactate-1.5\\n___ ___ PTT-28.4 ___\\n\\nDISCHARGE LABS ___:\\n=============================\\nWBC-0.9* RBC-2.45* Hgb-7.7* Hct-22.8* MCV-93 MCH-31.4 MCHC-33.8 \\nRDW-16.8* RDWSD-55.7* Plt Ct-18*\\nNeuts-25* Bands-0 Lymphs-62* Monos-3* Eos-1 Baso-0 Atyps-0 \\n___ Myelos-1* Blasts-8* NRBC-2* AbsNeut-0.23* AbsLymp-0.56* \\nAbsMono-0.03* AbsEos-0.01* AbsBaso-0.00*\\nGlucose-105* UreaN-21* Creat-1.0 Na-138 K-4.0 Cl-102 HCO3-21* \\nAnGap-15\\nALT-13 AST-13 LD(___)-162 AlkPhos-78 TotBili-0.4\\nCalcium-8.9 Phos-3.7 Mg-1.7 UricAcd-2.9\\n\\nMICROBIOLOGY:\\n=============================\\nBlood cultures (___): no growth to date\\nUA (___): normal\\nUrine culture (___): negative\\nEBV qPCR (___): negative\\n\\nIMAGING:\\n=============================\\nCXR ___: Normal\\n\\nCT Sinus Impression (___):\\nMinimal mucosal thickening in the left maxillary sinus and small \\nmucous \\nretention cysts in the right maxillary and right sphenoid \\nsinuses are not \\nsignificantly changed going back to ___.  Findings are \\nunlikely to represent acute sinusitis. \\n\\n \\nBrief Hospital Course:\\nSUMMARY:\\n___ w/ HTN, DL, NSTEMI, L parietal meningioma, and polycythemia \\n___ transformed to AML s/p MUD RIC allo HSCT ___ w/ \\nrelapse, now on decitabine, who p/w isolated fever to 100.4 and \\nmuscle aches after receiving dacogen and platelets, w/o \\nlocalizing symptoms. \\n\\nACTIVE ISSUES:\\n# Neutropenic fever\\nPresented with temperature of 100.4 and muscle aches following \\nday 1 of cycle 2 of Decitabine and a platelet transfusion. There \\nwas no obvious source identified, but given her profound \\nneutropenia (admission ANC 160), she was pancultured and \\ninitiated on vancomycin/cefepime. On ___, the patient noted \\nmild \"right sinus congestion.\" Pt reports history of sinus \\ninfections and also seasonal allergies. Review of systems \\notherwise negative and exam unremarkable. CT scan of the sinus \\ndid not show evidence of an acute sinusitis. Vancomycin was \\ndiscontinued after 48 hours and cefepime was discontinued after \\n72 hours. Pt was monitored for 24 hours on oral antibiotics \\n(home ciprofloxacin) prior to discharge. Etiology of the fever \\nremains unknown. Differential includes infection (viral > \\nbacterial), reaction to either the chemotherapy or platelet \\ntransfusion, or her underlying malignancy. \\n\\n# Acute Myeloid Leukemia, Relapse\\n# Pancytopenia\\n(complex cytogenetics + TP53 deletion, FLT3 ITD negative)\\nPer outpatient note from ___: Patient received 4 cycles of \\nDacogen induction followed by RIC MUD AlloSCT with \\nFlu/Bu/ATG/MTX while in CR1. Downtrending plts concerning for \\nrelapse around D+100 and BMBX on ___ consistent with \\nrelapsed disease with ___ blasts on core and complex \\nkaryotype including p53 deletion present at initial diagnosis. \\nThe plan was to start Decitabine the following week to allow for \\nher counts to recover in addition to tapering her Tacrolimus \\nlevel. As noted, patient presented to the hospital on ___ with a \\nlow grade fever (100.4) and muscle aches after receiving her \\nfirst dose of Decitabine (cycle 2, day 1 of 5) and a platelet \\ntransfusion. She was treated for neutropenic fever (see above) \\nand continued cycle 2 of Decitabine (day 5 of 5 on ___. Her \\ntacrolimus was tapered from 0.5mg 5x/week to 0.5mg every other \\nday. Her peripheral blast percentage was 9% on admission, peaked \\nto 11% and was down to 8% at discharge. \\n\\n# Pancytopenia\\nSecondary to chemotherapy and relapse of AML. She required 1 \\nunit of red cells on admission for a hemoglobin of 6.4. She was \\ncontinued on her Acyclovir, Bactrim and Posaconazole; \\nCiprofloxacin held while on Cefepime and restarted prior to \\ndischarge. \\n\\n# Knee pain, acute on chronic\\nPt with history of right knee trauma. Since then, she has \\nintermittent flares of pain and swelling. This usually resolves \\nwith ice, a knee brace and acetaminophen or low dose oxycodone. \\nOvernight on ___, the patient developed similar but slightly \\nmore severe right knee pain, worse with flexion and when \\nwalking. At this time, she was also noted to have a temperature \\nof 99.2 but was otherwise asymptomatic. Her knee had mild \\nswelling along the right lateral aspect but exam was otherwise \\nunremarkable. Her pain resolved with one dose of oxycodone and \\nstabilization with her knee brace. The decision was made to \\ndefer further work up given the chronicity of the pain and that \\nfact that she looked and felt well from every other aspect. \\n\\nCHRONIC ISSUES:\\n# Hypertension\\nThe patient\\'s home amlodipine on was held on admission. Earlier \\nin her course her systolic pressures remained between 100s-120s. \\nPrior to discharge, her blood pressures ranged between 120-140s. \\nWill restart amlodipine on day after discharge. \\n\\n# Elevated creatinine\\nPer OMR, creatinine level fluctuates, with intermittent \\nelevations between 1.1-1.4. Baseline creatinine appears to be \\ncloser to 0.8-1.0. During this admission, her creatinine ranged \\nbetween 1.0-1.2. Nephrotoxins were avoided including contrast or \\nNSAIDs.\\n\\n# History of cavernous sinus thrombosis: MRI on ___ \\nconsistent with subacute venous sinus thrombosis. Neurosurgery \\nrecommended systemic anticoagulation to prevent propagation of \\nthe filling defect which is likely due to meningioma. She was \\ninitiated on therapeutic enoxaparin. This has been held since \\n___ secondary to platelet count less than 50,000.\\n\\n# History of left parietal meningioma: asymptomatic, followed by \\n\\nDr. ___ neuro-oncology as well as Dr. ___ \\nneurosurgery.\\nMeningioma thought to be slow growing and no urgent intervention \\nis needed at this time. Will likely undergo surgical excision \\nfollowing treatment of leukemia.\\n\\nTRANSITIONAL ISSUES:\\nCode status: Full (presumed)\\nAccess: tunnel line (right subclavian, heparin-dependent)\\nContact(s): \\n1. ___ (HCP), friend - ___\\n2. ___, friend - ___ \\n3. ___ (next of kin) - ___ \\nDischarge CBC: WBC 0.9, Hb 7.7, Plt 18\\nDischarge ANC: 230\\nDischarge peripheral blast percentile: 8%\\nDischarge creatinine: 1.0\\n\\n- Acute Myeloid Leukemia\\n[] Continue to wean Tacrolimus: 0.5mg 5x/week decreased to every \\nother day on ___ (held on ___, next dose on ___\\n\\n- Acute on chronic right knee pain\\n[] Assess degree of swelling and mobility of her knee in clinic\\n\\n- History of cavernous sinus thrombosis\\n[] Plan to restart Lovenox once platelet count recovers >50k\\n \\nMedications on Admission:\\nThe Preadmission Medication list is accurate and complete.\\n1. Acyclovir 400 mg PO Q8H \\n2. amLODIPine 10 mg PO DAILY \\n3. FoLIC Acid 1 mg PO DAILY \\n4. Multivitamins 1 TAB PO DAILY \\n5. OxyCODONE (Immediate Release) 10 mg PO Q4H:PRN Pain - \\nModerate \\n6. Sulfameth/Trimethoprim SS 1 TAB PO DAILY \\n7. Tacrolimus 0.5 mg PO 5X/WEEK (___) \\n8. Posaconazole Delayed Release Tablet 300 mg PO DAILY \\n9. Ciprofloxacin HCl 500 mg PO Q12H \\n10. LORazepam 0.5 mg PO Q8H:PRN nausea \\n11. Vitamin D 1000 UNIT PO DAILY \\n\\n \\nDischarge Medications:\\n1.  Acetaminophen 650 mg PO Q6H:PRN Pain - Mild  \\n2.  Tacrolimus 0.5 mg PO EVERY OTHER DAY  \\n3.  Acyclovir 400 mg PO Q8H  \\n4.  amLODIPine 10 mg PO DAILY  \\n5.  Ciprofloxacin HCl 500 mg PO Q12H  \\n6.  FoLIC Acid 1 mg PO DAILY  \\n7.  LORazepam 0.5 mg PO Q8H:PRN nausea  \\n8.  Multivitamins 1 TAB PO DAILY  \\n9.  OxyCODONE (Immediate Release) 10 mg PO Q4H:PRN Pain - \\nModerate  \\n10.  Posaconazole Delayed Release Tablet 300 mg PO DAILY  \\n11.  Sulfameth/Trimethoprim SS 1 TAB PO DAILY  \\n12.  Vitamin D 1000 UNIT PO DAILY  \\n\\n \\nDischarge Disposition:\\nHome With Service\\n \\nFacility:\\n___\\n \\nDischarge Diagnosis:\\nPRIMARY:\\n----------------\\nNeutropenic fever\\nAcute Myeloid Leukemia, Relapse\\n\\nSECONDARY:\\n----------------\\nPancytopenia\\nKnee pain, acute on chronic\\nHypertension\\nElevated creatinine\\nHistory of cavernous sinus thrombosis \\nHistory of left parietal meningioma\\n\\n \\nDischarge Condition:\\nMental Status: Clear and coherent.\\nLevel of Consciousness: Alert and interactive.\\nActivity Status: Ambulatory - Independent.\\n\\n \\nDischarge Instructions:\\nDear ___,\\n\\nYou were admitted to ___ \\nbecause you were having muscle aches and developed a fever to \\n100.4 degrees. \\n\\nBecause your immune system is low right now, you were given \\nstrong intravenous antibiotics just in case you had an \\ninfection. Fortunately, no source of infection was found and you \\ndid not have any more fevers while you were here. We \\ndiscontinued these strong antibiotics and started you back on \\nyour home Ciprofloxacin. \\n\\nWhile you were here, you completed the remaining 4 of your 5 \\ndays of chemotherapy and tolerated this very well. You were also \\ntransfused 1 unit of red blood cells during your \\nhospitalization. \\n\\nAs mentioned above, your immune system is very weak right now \\nwhile you are undergoing treatment. Therefore, please follow a \\nstrict diet (called a neutropenic diet). If you need a reminder, \\nplease refer to the following website: \\nh\\nt\\nt\\np\\n:\\n/\\n/\\nw\\nw\\nw\\n.\\nu\\np\\nm\\nc\\n.\\nc\\no\\nm/patients-visitors/education/cancer/Pages/neutropenic-diet.aspx\\n\\nYour medication list is essentially the same as when you came \\nin. However, we have decreased the frequency of your Tacrolimus \\ndosing. Please take your Tacrolimus 0.5mg every other day as \\nopposed to 5 days a week. You are due for this medication on \\n___. \\n\\nFinally, if you develop a fever (100.4F or greater), chills, \\nmouth sores, sinus pain, pain with swallowing, cough (dry or \\nwith mucous), shortness of breath, chest pain with deep \\nbreathing, abdominal pain, nausea, vomiting, diarrhea, abnormal \\nrashes or any other symptoms that concern you, please call your \\ndoctor or return to the emergency room. \\n\\nIt was a pleasure taking part in your care. We wish you all the \\nbest with your health.\\n\\nSincerely,\\nThe team at ___\\n \\nFollowup Instructions:\\n___\\n'"
      ]
     },
     "execution_count": 13,
     "metadata": {},
     "output_type": "execute_result"
    }
   ],
   "source": [
    "# define function that parse discharge note\n",
    "\n",
    "def parse_discharge_notes(content) :\n",
    "    content = content.replace(\"You are a helpful assistant trained for healthcare. Here is the patient\\'s discharge note. \\n\\n\", \"\")\n",
    "    return content \n",
    "\n",
    "s = ds['train']['messages'][0][0]['content']\n",
    "parse_discharge_notes(s)"
   ]
  },
  {
   "cell_type": "markdown",
   "metadata": {},
   "source": [
    "How many datasets were used"
   ]
  },
  {
   "cell_type": "code",
   "execution_count": 40,
   "metadata": {},
   "outputs": [],
   "source": [
    "# load train and test\n",
    "\n",
    "ds = load_datasets()"
   ]
  },
  {
   "cell_type": "code",
   "execution_count": 41,
   "metadata": {},
   "outputs": [
    {
     "data": {
      "text/plain": [
       "DatasetDict({\n",
       "    train: Dataset({\n",
       "        features: ['messages'],\n",
       "        num_rows: 14231\n",
       "    })\n",
       "    test: Dataset({\n",
       "        features: ['messages'],\n",
       "        num_rows: 3558\n",
       "    })\n",
       "})"
      ]
     },
     "execution_count": 41,
     "metadata": {},
     "output_type": "execute_result"
    }
   ],
   "source": [
    "ds"
   ]
  },
  {
   "cell_type": "markdown",
   "metadata": {},
   "source": [
    "Calculate Turns"
   ]
  },
  {
   "cell_type": "code",
   "execution_count": 42,
   "metadata": {},
   "outputs": [],
   "source": [
    "# define function\n",
    "\n",
    "def calculate_turns(conversation) :\n",
    "\n",
    "    turn = 0\n",
    "    for conv in conversation['messages'] :\n",
    "        if conv['role'] == 'system' :\n",
    "            pass\n",
    "        else :\n",
    "            turn += 1\n",
    "    return turn\n",
    "\n",
    "\n",
    "s = ds['train'][0]"
   ]
  },
  {
   "cell_type": "code",
   "execution_count": 43,
   "metadata": {},
   "outputs": [],
   "source": [
    "# train\n",
    "turn_counts_train = []\n",
    "for t in ds['train'] :\n",
    "    count = calculate_turns(t)\n",
    "    turn_counts_train.append(count)\n",
    "\n",
    "turn_counts_test = []\n",
    "for t in ds['test'] :\n",
    "    count = calculate_turns(t)\n",
    "    turn_counts_test.append(count)"
   ]
  },
  {
   "cell_type": "code",
   "execution_count": 44,
   "metadata": {},
   "outputs": [
    {
     "data": {
      "text/plain": [
       "25"
      ]
     },
     "execution_count": 44,
     "metadata": {},
     "output_type": "execute_result"
    }
   ],
   "source": [
    "\n",
    "np.array(turn_counts_test).max()"
   ]
  },
  {
   "cell_type": "code",
   "execution_count": 47,
   "metadata": {},
   "outputs": [
    {
     "data": {
      "image/png": "[encoded data removed]",
      "text/plain": [
       "<Figure size 500x200 with 1 Axes>"
      ]
     },
     "metadata": {},
     "output_type": "display_data"
    }
   ],
   "source": [
    "import matplotlib.pyplot as plt\n",
    "import seaborn as sns\n",
    "\n",
    "plt.figure(figsize=(5,2))\n",
    "sns.histplot(turn_counts_test,kde=True)\n",
    "plt.savefig('../figures/turn_dist_test.jpg', dpi=300)\n",
    "plt.show()"
   ]
  },
  {
   "cell_type": "code",
   "execution_count": 14,
   "metadata": {},
   "outputs": [],
   "source": [
    "# case study\n",
    "\n",
    "import pandas as pd\n",
    "import numpy as np\n",
    "from utils import *\n",
    "\n",
    "config = load_config()\n",
    "PROJECT_PATH = config.project_path\n",
    "DATA_PATH = PROJECT_PATH.joinpath(\"data/processed\")\n",
    "dataset = pd.read_pickle(DATA_PATH.joinpath(\"evaluation_case_gpt4o_train.pkl\"))"
   ]
  },
  {
   "cell_type": "code",
   "execution_count": 15,
   "metadata": {
    "lines_to_next_cell": 2
   },
   "outputs": [],
   "source": [
    "# load dataset\n",
    "df = load_datasets()"
   ]
  },
  {
   "cell_type": "code",
   "execution_count": 27,
   "metadata": {},
   "outputs": [
    {
     "data": {
      "text/plain": [
       "[' c6\\n\\n',\n",
       " ' c6,c',\n",
       " ' c3 \\n\\n',\n",
       " ' c6\\n\\n',\n",
       " ' c4,c',\n",
       " ' c6\\n\\n',\n",
       " ' c6\\n\\n',\n",
       " ' c3 \\n\\n',\n",
       " ' c4\\n\\n',\n",
       " ' c3\\n\\n',\n",
       " ' c2,c',\n",
       " ' c3\\n\\n',\n",
       " ' c4,c',\n",
       " '6\\n\\n###',\n",
       " ' c6\\n\\n']"
      ]
     },
     "execution_count": 27,
     "metadata": {},
     "output_type": "execute_result"
    }
   ],
   "source": [
    "dataset[2]['text'][2]\n",
    "\n",
    "dataset[3]['outputs']"
   ]
  },
  {
   "cell_type": "code",
   "execution_count": 17,
   "metadata": {},
   "outputs": [],
   "source": [
    "def reformat_for_case_study(messages) :\n",
    "    text = \"\"\n",
    "    for message in messages :\n",
    "        if message['role'] == \"system\" :\n",
    "            continue\n",
    "        text += message['role'] + \" : \" + message['content'] + \"\\n\"\n",
    "    return text\n",
    "\n"
   ]
  },
  {
   "cell_type": "code",
   "execution_count": 28,
   "metadata": {
    "lines_to_next_cell": 2
   },
   "outputs": [],
   "source": [
    "sample = df['train']['messages'][2]"
   ]
  },
  {
   "cell_type": "code",
   "execution_count": 29,
   "metadata": {
    "lines_to_next_cell": 2
   },
   "outputs": [
    {
     "name": "stdout",
     "output_type": "stream",
     "text": [
      "assistant : Hi, how can I help you today?\n",
      "user : I have some questions about my discharge instructions regarding my surgery and recovery.\n",
      "assistant : Sure, I can help with that. You were admitted because of acute cholecystitis, which means your gallbladder was inflamed and had obstructive stones. They performed a procedure called ERCP to remove those stones and sludge, and then they removed your gallbladder with a laparoscopic surgery. [Evidence: \"You were admitted to the hospital with acute cholecystitis with obstructive gallstones... you were then taken to the operating room and had your gallbladder removed laparoscopically.\"]\n",
      "user : I see. What should I be careful about with my activities?\n",
      "assistant : You'll need to avoid driving until you're off pain medication and feel alert enough to handle an emergency situation. You can climb stairs and go outside, but don't travel long distances until you've seen your surgeon again. Also, avoid lifting anything heavier than a small bag of groceries for four weeks. [Evidence: \"Do not drive until you have stopped taking pain medicine... Don't lift more than ___ lbs for 4 weeks.\"]\n",
      "user : Can you tell me how I might feel during recovery?\n",
      "assistant : It's common to feel tired and a bit weak for a couple of weeks. You might have a sore throat from the tube used during your surgery. Some trouble concentrating and a poor appetite are also possible, but these should get better over time. If they don't, you should let your surgeon know. [Evidence: \"You may feel weak or 'washed out' for a couple of weeks... All of these feelings and reactions are normal and should go away in a short time.\"]\n",
      "user : What should I know about my incision?\n",
      "assistant : Tomorrow you can shower and remove the gauze over your incisions, but leave the small adhesive strips, called steri-strips, in place for two weeks. It's normal for it to be slightly red, and you might see a bit of clear or light red fluid—this is okay. If it seems severe, contact your surgeon. Remember, no bathtub or swimming until your doctor says it's okay. [Evidence: \"Tomorrow you may shower and remove the gauzes over your incisions... Avoid direct sun exposure to the incision area.\"]\n",
      "user : What about the pain? How should I manage it?\n",
      "assistant : You have medication prescribed for your pain. It's normal to feel some soreness, and your pain should improve day by day. If it gets worse, or if you have severe or sharp pain, contact your surgeon. Take your pain medication as directed, and it's more effective if you take it before the pain becomes very severe. Also, use a \"cough pillow\" for comfort when you cough or do breathing exercises. [Evidence: \"You will receive a prescription for pain medicine to take by mouth. It is important to take this medicine as directed... If you experience any of the following, please contact your surgeon.\"]\n",
      "user : Got it. Is there anything else I should watch out for?\n",
      "assistant : Yes, there are things you should monitor and contact your doctor about. If you have new chest pain, trouble breathing, are unable to keep fluids down, or notice blood in your vomit or stool, seek medical help. Also, let your doctor know if your incision area becomes more painful or swollen, or if you have a fever above 101.5°F. [Evidence: \"Please call your doctor or nurse practitioner or return to the Emergency Department for any of the following...\"]\n",
      "user : Thank you, doctor. This helps clarify things a lot.\n",
      "assistant : You're welcome! Follow your discharge instructions, and don't hesitate to reach out if you have more questions. Take care.\n",
      "\n"
     ]
    }
   ],
   "source": [
    "print(reformat_for_case_study(sample))"
   ]
  }
 ],
 "metadata": {
  "kernelspec": {
   "display_name": "cn",
   "language": "python",
   "name": "python3"
  },
  "language_info": {
   "codemirror_mode": {
    "name": "ipython",
    "version": 3
   },
   "file_extension": ".py",
   "mimetype": "text/x-python",
   "name": "python",
   "nbconvert_exporter": "python",
   "pygments_lexer": "ipython3",
   "version": "3.12.5"
  }
 },
 "nbformat": 4,
 "nbformat_minor": 2
}
