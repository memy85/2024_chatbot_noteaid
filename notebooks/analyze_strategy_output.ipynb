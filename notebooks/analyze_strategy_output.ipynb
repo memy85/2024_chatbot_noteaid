{
 "cells": [
  {
   "cell_type": "code",
   "execution_count": 1,
   "metadata": {},
   "outputs": [
    {
     "name": "stderr",
     "output_type": "stream",
     "text": [
      "/home/wjang/miniconda3/envs/cn/lib/python3.12/site-packages/tqdm/auto.py:21: TqdmWarning: IProgress not found. Please update jupyter and ipywidgets. See https://ipywidgets.readthedocs.io/en/stable/user_install.html\n",
      "  from .autonotebook import tqdm as notebook_tqdm\n"
     ]
    }
   ],
   "source": [
    "from utils import *\n",
    "import pandas as pd\n",
    "import numpy as np\n",
    "import pickle\n",
    "\n",
    "config = load_config()\n",
    "PROJECT_PATH = config.project_path\n",
    "DATA_PATH = PROJECT_PATH.joinpath(\"data/processed\")"
   ]
  },
  {
   "cell_type": "code",
   "execution_count": null,
   "id": "53ec7949",
   "metadata": {
    "lines_to_next_cell": 2
   },
   "outputs": [],
   "source": [
    "results = pd.read_pickle(DATA_PATH.joinpath(\"evaluation_case_strategy_gpt4o_train.pkl\"))\n",
    "results[3]['output']"
   ]
  },
  {
   "cell_type": "code",
   "execution_count": null,
   "id": "21073202",
   "metadata": {},
   "outputs": [],
   "source": [
    "# conversation \n",
    "text = \"\"\n",
    "for conv in results[2]['messages'] :\n",
    "    utterance = conv['content']\n",
    "    role = conv['role']\n",
    "    text += f\"{role}: {utterance}\\n\"\n",
    "\n",
    "print(text)\n",
    "\n",
    "\n",
    "\n",
    "\n"
   ]
  },
  {
   "cell_type": "markdown",
   "id": "43c9d1ff",
   "metadata": {},
   "source": [
    "# Testing matplotlib\n",
    "- I don't think this is working...?"
   ]
  },
  {
   "cell_type": "code",
   "execution_count": null,
   "id": "afd82177",
   "metadata": {
    "lines_to_next_cell": 2
   },
   "outputs": [],
   "source": [
    "import matplotlib.pyplot as plt\n",
    "plt.plot([1,2,3,4])\n",
    "plt.show()\n",
    "\n",
    "\n",
    "\n",
    "\n"
   ]
  }
 ],
 "metadata": {
  "kernelspec": {
   "display_name": "cn",
   "language": "python",
   "name": "python3"
  },
  "language_info": {
   "codemirror_mode": {
    "name": "ipython",
    "version": 3
   },
   "file_extension": ".py",
   "mimetype": "text/x-python",
   "name": "python",
   "nbconvert_exporter": "python",
   "pygments_lexer": "ipython3",
   "version": "3.12.5"
  }
 },
 "nbformat": 4,
 "nbformat_minor": 2
}
