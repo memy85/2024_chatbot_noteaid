{
 "cells": [
  {
   "cell_type": "code",
   "execution_count": 1,
   "id": "d4d7e383",
   "metadata": {},
   "outputs": [],
   "source": [
    "import pandas as pd\n",
    "from utils import *\n",
    "\n",
    "config = load_config()\n",
    "PROJECT_PATH = config.project_path\n",
    "DATA_PATH = PROJECT_PATH.joinpath(\"data/raw\")"
   ]
  },
  {
   "cell_type": "code",
   "execution_count": 2,
   "id": "c5684d7d",
   "metadata": {},
   "outputs": [],
   "source": [
    "# read mimic-iv Gold \n",
    "\n",
    "gold_list = []\n",
    "for p in ['page1', 'page2', 'page3', 'page4'] :\n",
    "    df = pd.read_excel(DATA_PATH.joinpath(\"gold_label.xlsx\"), sheet_name=p)\n",
    "    df = df[['note_id','text','questionnaire']].copy()\n",
    "    gold_list.append(df)\n",
    "\n",
    "gold = pd.concat(gold_list, ignore_index=True)"
   ]
  },
  {
   "cell_type": "code",
   "execution_count": 3,
   "id": "e7cb3089",
   "metadata": {},
   "outputs": [],
   "source": [
    "# parse gold\n",
    "\n",
    "gold.loc[:,\"note_id\"] = gold['note_id'].str.replace(\"\\n\", \"\")"
   ]
  },
  {
   "cell_type": "code",
   "execution_count": 4,
   "id": "f6474980",
   "metadata": {},
   "outputs": [
    {
     "data": {
      "text/html": [
       "<div>\n",
       "<style scoped>\n",
       "    .dataframe tbody tr th:only-of-type {\n",
       "        vertical-align: middle;\n",
       "    }\n",
       "\n",
       "    .dataframe tbody tr th {\n",
       "        vertical-align: top;\n",
       "    }\n",
       "\n",
       "    .dataframe thead th {\n",
       "        text-align: right;\n",
       "    }\n",
       "</style>\n",
       "<table border=\"1\" class=\"dataframe\">\n",
       "  <thead>\n",
       "    <tr style=\"text-align: right;\">\n",
       "      <th></th>\n",
       "      <th>note_id</th>\n",
       "      <th>text</th>\n",
       "      <th>questionnaire</th>\n",
       "    </tr>\n",
       "  </thead>\n",
       "  <tbody>\n",
       "    <tr>\n",
       "      <th>0</th>\n",
       "      <td>11242800-DS-12</td>\n",
       "      <td>\\nName:  ___                 Unit No:   ___\\n...</td>\n",
       "      <td>1. Why were you admitted to the hospital?\\na) ...</td>\n",
       "    </tr>\n",
       "    <tr>\n",
       "      <th>1</th>\n",
       "      <td>13355766-DS-20</td>\n",
       "      <td>\\nName:  ___               Unit No:   ___\\n \\...</td>\n",
       "      <td>1. At what incidence condition do you have to ...</td>\n",
       "    </tr>\n",
       "    <tr>\n",
       "      <th>2</th>\n",
       "      <td>15141946-DS-13</td>\n",
       "      <td>Name:  ___                  Unit No:   ___\\n \\...</td>\n",
       "      <td>1. What was your discharge diagnosis?\\na) vent...</td>\n",
       "    </tr>\n",
       "    <tr>\n",
       "      <th>3</th>\n",
       "      <td>13872997-DS-25</td>\n",
       "      <td>Name:  ___                 Unit No:   ___\\nfro...</td>\n",
       "      <td>1. At what incidence condition do you have to ...</td>\n",
       "    </tr>\n",
       "    <tr>\n",
       "      <th>4</th>\n",
       "      <td>10294457-DS-11</td>\n",
       "      <td>\\nName:  ___                     Unit No:   _...</td>\n",
       "      <td>1. What was your discharge diagnosis?\\na) live...</td>\n",
       "    </tr>\n",
       "  </tbody>\n",
       "</table>\n",
       "</div>"
      ],
      "text/plain": [
       "          note_id                                               text  \\\n",
       "0  11242800-DS-12   \\nName:  ___                 Unit No:   ___\\n...   \n",
       "1  13355766-DS-20   \\nName:  ___               Unit No:   ___\\n \\...   \n",
       "2  15141946-DS-13  Name:  ___                  Unit No:   ___\\n \\...   \n",
       "3  13872997-DS-25  Name:  ___                 Unit No:   ___\\nfro...   \n",
       "4  10294457-DS-11   \\nName:  ___                     Unit No:   _...   \n",
       "\n",
       "                                       questionnaire  \n",
       "0  1. Why were you admitted to the hospital?\\na) ...  \n",
       "1  1. At what incidence condition do you have to ...  \n",
       "2  1. What was your discharge diagnosis?\\na) vent...  \n",
       "3  1. At what incidence condition do you have to ...  \n",
       "4  1. What was your discharge diagnosis?\\na) live...  "
      ]
     },
     "execution_count": 4,
     "metadata": {},
     "output_type": "execute_result"
    }
   ],
   "source": [
    "gold.head()"
   ]
  },
  {
   "cell_type": "code",
   "execution_count": 25,
   "id": "1caa4c7e",
   "metadata": {},
   "outputs": [],
   "source": [
    "gold.to_pickle(PROJECT_PATH.joinpath(\"data/processed/gold.pkl\"))"
   ]
  },
  {
   "cell_type": "markdown",
   "id": "b60dfeee",
   "metadata": {},
   "source": [
    "## Evaluate gold"
   ]
  },
  {
   "cell_type": "code",
   "execution_count": null,
   "id": "1ae186d5",
   "metadata": {},
   "outputs": [],
   "source": []
  }
 ],
 "metadata": {
  "kernelspec": {
   "display_name": "cn",
   "language": "python",
   "name": "python3"
  },
  "language_info": {
   "codemirror_mode": {
    "name": "ipython",
    "version": 3
   },
   "file_extension": ".py",
   "mimetype": "text/x-python",
   "name": "python",
   "nbconvert_exporter": "python",
   "pygments_lexer": "ipython3",
   "version": "3.12.5"
  }
 },
 "nbformat": 4,
 "nbformat_minor": 5
}
