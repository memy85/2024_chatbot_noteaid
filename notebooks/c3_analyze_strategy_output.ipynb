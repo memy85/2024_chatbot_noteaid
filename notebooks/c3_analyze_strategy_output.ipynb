{
 "cells": [
  {
   "cell_type": "code",
   "execution_count": 2,
   "id": "de8a31b6",
   "metadata": {},
   "outputs": [],
   "source": [
    "import pandas as pd\n",
    "from utils import *\n",
    "\n",
    "config = load_config()\n",
    "PROJECT_PATH = config.project_path\n",
    "DATA_PATH = PROJECT_PATH.joinpath(\"data/processed\")\n",
    "\n",
    "models = [\n",
    "    \"gpt-4o-mini\", \n",
    "    # \"llama3.2-3B\", \n",
    "    \"llama3.2-3B-lora\", \n",
    "    \"llama3.2-3B-sft\", \n",
    "    # \"llama3.2-3B-lora-ppo\", \n",
    "    # \"llama3.2-3B-lora-grpo\"\n",
    "]"
   ]
  },
  {
   "cell_type": "code",
   "execution_count": 32,
   "id": "5ceeed37",
   "metadata": {},
   "outputs": [],
   "source": [
    "def load_results(model, dataset_type) :\n",
    "    with open(DATA_PATH.joinpath(\"evaluation_strategy_test.pkl\"), 'rb') as f:\n",
    "        results = pickle.load(f)\n",
    "\n",
    "    new_results = []\n",
    "    for result in results :\n",
    "        new_result = {}\n",
    "        for key in result.keys() :\n",
    "            score = result[key]['score']\n",
    "            new_result[key] = score\n",
    "        new_results.append(new_result)\n",
    "\n",
    "    return new_results\n"
   ]
  }
 ],
 "metadata": {
  "kernelspec": {
   "display_name": "cn",
   "language": "python",
   "name": "python3"
  },
  "language_info": {
   "codemirror_mode": {
    "name": "ipython",
    "version": 3
   },
   "file_extension": ".py",
   "mimetype": "text/x-python",
   "name": "python",
   "nbconvert_exporter": "python",
   "pygments_lexer": "ipython3",
   "version": "3.12.5"
  }
 },
 "nbformat": 4,
 "nbformat_minor": 5
}
