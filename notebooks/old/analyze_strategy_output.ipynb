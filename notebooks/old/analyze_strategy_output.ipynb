{
 "cells": [
  {
   "cell_type": "code",
   "execution_count": null,
   "id": "71fafb15",
   "metadata": {},
   "outputs": [],
   "source": [
    "\n",
    "# ---\n",
    "# jupyter:\n",
    "#   jupytext:\n",
    "#     text_representation:\n",
    "#       extension: .py\n",
    "#       format_name: hydrogen\n",
    "#       format_version: '1.3'\n",
    "#       jupytext_version: 1.16.6\n",
    "#   kernelspec:\n",
    "#     display_name: cn\n",
    "#     language: python\n",
    "#     name: python3\n",
    "# ---"
   ]
  },
  {
   "cell_type": "code",
   "execution_count": null,
   "id": "ae4fe854",
   "metadata": {},
   "outputs": [],
   "source": [
    "from utils import *\n",
    "import pandas as pd\n",
    "import numpy as np\n",
    "import json\n",
    "import pickle\n",
    "\n",
    "config = load_config()\n",
    "PROJECT_PATH = config.project_path\n",
    "DATA_PATH = PROJECT_PATH.joinpath(\"data/processed\")"
   ]
  },
  {
   "cell_type": "code",
   "execution_count": null,
   "id": "ece0f6f9",
   "metadata": {},
   "outputs": [],
   "source": [
    "results = pd.read_pickle(DATA_PATH.joinpath(\"evaluation_case_strategy_gpt4o_train.pkl\"))\n",
    "output = results[3]\n",
    "output.keys()\n",
    "\n",
    "output['initial_scores']\n",
    "output['modified_scores']\n",
    "conversation = output['messages']\n",
    "t = output['modified_conv']\n",
    "\n",
    "\n",
    "def format_conv(conversation): \n",
    "    text = \"\"\n",
    "    for conv in conversation :\n",
    "        utterance = conv['content'] role = conv['role']\n",
    "        text += f\"{role}: {utterance}\\n\"\n",
    "    print(text)\n",
    "\n",
    "format_conv(output['modified_conv'])\n",
    "\n"
   ]
  },
  {
   "cell_type": "code",
   "execution_count": null,
   "id": "b0ce2299",
   "metadata": {
    "lines_to_next_cell": 2
   },
   "outputs": [],
   "source": [
    "# parse the output to json\n",
    "\n",
    "out = json.loads(output)\n",
    "out\n",
    "\n",
    "out['messages']"
   ]
  },
  {
   "cell_type": "code",
   "execution_count": null,
   "id": "98ee0cdd",
   "metadata": {},
   "outputs": [],
   "source": [
    "# format conversation \n",
    "\n",
    "results[2]['messages']\n",
    "\n",
    "\n",
    "\n",
    "\n"
   ]
  },
  {
   "cell_type": "markdown",
   "id": "daad6556",
   "metadata": {},
   "source": [
    "# Testing matplotlib\n",
    "- I don't think this is working...?"
   ]
  },
  {
   "cell_type": "code",
   "execution_count": null,
   "id": "30b1c4bb",
   "metadata": {
    "lines_to_next_cell": 2
   },
   "outputs": [],
   "source": [
    "import matplotlib.pyplot as plt\n",
    "plt.plot([1,2,3,4])\n",
    "plt.show()"
   ]
  },
  {
   "cell_type": "code",
   "execution_count": null,
   "id": "c2660241",
   "metadata": {
    "lines_to_next_cell": 1
   },
   "outputs": [],
   "source": [
    "from datasets import load_dataset\n",
    "\n",
    "def load_datasets() :\n",
    "\n",
    "    data = load_dataset(\"json\", data_files={\"train\" : DATA_PATH.joinpath(\"train_conversation.jsonl\").as_posix(),\n",
    "                                     \"test\" : DATA_PATH.joinpath(\"test_conversation.jsonl\").as_posix()})\n",
    "    return data"
   ]
  },
  {
   "cell_type": "code",
   "execution_count": null,
   "id": "4febe2cc",
   "metadata": {
    "lines_to_next_cell": 3
   },
   "outputs": [],
   "source": [
    "\n",
    "d = load_datasets()\n",
    "\n",
    "d['train'].add_column(\"new\", [0 for _ in range(len(d['train']))])\n",
    "d['train']"
   ]
  }
 ],
 "metadata": {
  "jupytext": {
   "cell_metadata_filter": "-all",
   "main_language": "python",
   "notebook_metadata_filter": "-all"
  }
 },
 "nbformat": 4,
 "nbformat_minor": 5
}
