{
 "cells": [
  {
   "cell_type": "code",
   "execution_count": 26,
   "metadata": {},
   "outputs": [],
   "source": [
    "from transformers import AutoTokenizer, AutoModelForCausalLM, pipeline\n",
    "import pandas as pd\n",
    "import json\n",
    "from utils import *"
   ]
  },
  {
   "cell_type": "code",
   "execution_count": 23,
   "metadata": {},
   "outputs": [],
   "source": [
    "config = load_config()\n",
    "PROJECT_PATH = config.project_path\n",
    "DATA_PATH = PROJECT_PATH.joinpath(\"data/processed\")\n",
    "MODEL_PATH = config.model_path(\"llama3.2-3B\")"
   ]
  },
  {
   "cell_type": "code",
   "execution_count": 24,
   "metadata": {},
   "outputs": [
    {
     "name": "stderr",
     "output_type": "stream",
     "text": [
      "Loading checkpoint shards: 100%|██████████| 2/2 [00:02<00:00,  1.28s/it]\n"
     ]
    }
   ],
   "source": [
    "from datasets import load_dataset\n",
    "\n",
    "model = AutoModelForCausalLM.from_pretrained(MODEL_PATH)\n",
    "tokenizer = AutoTokenizer.from_pretrained(MODEL_PATH)\n",
    "\n",
    "def load_datasets() :\n",
    "\n",
    "    data = load_dataset(\"json\", data_files={\"train\" : DATA_PATH.joinpath(\"train_conversation.jsonl\").as_posix(),\n",
    "                                     \"test\" : DATA_PATH.joinpath(\"test_conversation.jsonl\").as_posix()})\n",
    "    return data"
   ]
  },
  {
   "cell_type": "code",
   "execution_count": 12,
   "metadata": {},
   "outputs": [
    {
     "name": "stderr",
     "output_type": "stream",
     "text": [
      "Map: 100%|██████████| 14231/14231 [00:04<00:00, 2895.03 examples/s]\n",
      "Map: 100%|██████████| 3558/3558 [00:01<00:00, 2918.75 examples/s]\n"
     ]
    }
   ],
   "source": [
    "data = load_datasets()\n",
    "\n",
    "dataset = data.map(lambda x : {\"formatted_chat\": tokenizer.apply_chat_template(x[\"messages\"], tokenize=False, add_generation_prompt=False)})"
   ]
  },
  {
   "cell_type": "code",
   "execution_count": 20,
   "metadata": {},
   "outputs": [
    {
     "data": {
      "text/plain": [
       "[{'content': \"You are a helpful assistant trained for healthcare. Here is the patient's discharge note. \\n\\n  \\nName:  ___             Unit No:   ___\\n \\nAdmission Date:  ___              Discharge Date:   ___\\n \\nDate of Birth:  ___             Sex:   F\\n \\nService: MEDICINE\\n \\nAllergies: \\nNo Known Allergies / Adverse Drug Reactions\\n \\nAttending: ___.\\n \\nChief Complaint:\\nEncephalopathy\\n \\nMajor Surgical or Invasive Procedure:\\nintubation\\n \\nHistory of Present Illness:\\nMs. ___ is a ___ year old female, with past history of \\naltered mental status, glioblastoma multiforme, who presented \\nminimally responsive to an OSH, transferred for ___ for \\nfurther management.\\n \\nThe patient was diagnosed with GBM approximately 8 weeks prior \\nand is currently receiving care at ___. She is currently \\nundergoing treatment with XRT and avastin. She has a baseline \\nright sided hemiparesis.\\n\\nThe day prior to admission she had a R sided port place \\nrequiring anesthesia due to patient anxiety. She was in her \\nusual state of health the night prior to admission and was able \\nto eat dinner with her family. Per her family she did endorse \\nchills during the night and was given a dose of tramadol for \\npain by family, which she does not take frequently. At \\napproximately 6 AM when she was attempted to be awoken by her \\nfamily she was found to be unresponsive. She was noted to have \\nshallow breathing, as well as some clenching of her jaw. She \\ncontinued to move the left side of her body, and there were no \\nevidence of new shaking movements (pateint with old L hand \\ntremor). She was noted to have some minimal output from her \\nmouth but not overt emesis, described as similar to reflux. She \\nhad no new rash or complaints of neck stiffness. She has \\nreportedly not missed any doses of her keppra or dexamethasone. \\nEMS was called in the setting of unresponsiveness, and the \\npatient was taken to ___.\\n\\nVItals on arrival were notable for T 102.1 BP 172/114 HR 116 RR  \\n20 95% NC. The patient had a non contrast CT head with a small \\nleft intraparenchial hematoma in the tumor bed. She was moving \\nher eyes but not following commands. She was started on \\nvancomycin and cefepime, and was given PR APAP. Labs were \\nnotabel for WBC of 20.7, 11% bands, lactate of 3.84 at OSH. She \\nwas transported to ___ for further evaluation. \\n\\nUpon arrival to the ___ ED, initial vitals: T 99.1, BP 140/91, \\nRR 14, O2 94% NC.  Patient was found to be withdrawing to \\npainful stimuli, however not withdrawing on the LUE ( has \\nbaseline right sided hemiparesis). Patient was not found to have \\npurposeful movements, and was found to have coarse upper airway \\nsounds.  In the ED, patient was given lido+fent, and intubated \\nwith etomidate sux for airway protection, and was placed on prop \\nand fentanyl for sedation.  Iniital intubation was consistent \\nwith right mainstem bronchus intubation, which was subsequently \\ncorrected. Temp went up to 101, and SBPs went down to 96 while \\nintubated. \\n\\nLabs at ___ were notable for: \\n-WBC 19, Hgb 11.3, Platelet 171.  71% PMN, with 7% bands  \\n-Sodium 138, Potassium 3.3, Chloride 100, Bicarb 25, BUN 23, Cr \\n0.7.  \\n-ALT 82, AST 31, ALKP phosph 78, Lipase 29, Albumin 3.3  \\n-ABG: pH 7.46 / 32 / 352 on 100% FIO2, with tidal volume 450, \\nPeep 5.  \\n-Lactate 4.5 -> 4.3.  \\n\\nImaging was notable for a non contrast CT head with a 6 mm \\nintraparenchymal hemorrhage in the region of the left basal \\nganglia, unchanged from previous, and 2 cm mass in the internal \\nhypodensity. CXR notable for retrocardiac opacity and small left \\npleural effusion. CT Abdomen Pelvis was notable for no acute \\nintra abdominal process but LLL consolidation c/f pneumonia.\\n \\nNeurosurgery was consulted in the ED given intraparenchymal \\nbleed, who did not believe the small IPH was the etiology of her \\naltered mental status. Given the elevated WBC count and concern \\nfor sepsis ___ as admitted to the FICU for further management.\\n \\nOn transfer, vitals were: 70 135/70 12 100% ventilated. She is \\nsedated and not able to answer questions.\\n \\n \\nPast Medical History:\\nGlioblastoma Multiforme, currently being treated at ___ with \\nXRT/Avastin \\nHypertension \\nColon resection\\nArm surgery \\n \\n \\nSocial History:\\n___\\nFamily History:\\nFather - CV disease\\nType II DM\\nNo hx parkinsons, seizures, malignancy  \\n\\n \\nPhysical Exam:\\nADMISSION\\nVitals: T: 99.6  BP: 158/68  P: 72  Intubated, Assist Control \\nFiO2 50% Rate 12 Vt 450 PEEP 5  \\nGENERAL: Intubated, sedated\\nHEENT: NCAT\\nLUNGS: Mechanical lung sounds, clear to auscultation \\nbilaterally, no wheezes, rales, rhonchi  \\nCV: Regular rate and rhythm, normal S1 S2, no murmurs, rubs, \\ngallops  \\nABD: soft, non-tender, non-distended, bowel sounds present \\nEXT: Warm, well perfused, no clubbing, cyanosis or edema   \\nNEURO: sedated, not opening eyes, not following commands\\n\\nDISCHARGE\\n \\nPertinent Results:\\nADMISSION LABS\\n\\n___ 11:51AM BLOOD WBC-19.0* RBC-3.71* Hgb-11.3 Hct-35.0 \\nMCV-94 MCH-30.5 MCHC-32.3 RDW-15.0 RDWSD-51.7* Plt ___\\n___ 11:51AM BLOOD Neuts-71 Bands-9* Lymphs-9* Monos-7 Eos-0 \\nBaso-0 Atyps-3* Metas-1* Myelos-0 AbsNeut-15.20* AbsLymp-2.28 \\nAbsMono-1.33* AbsEos-0.00* AbsBaso-0.00*\\n___ 11:51AM BLOOD Hypochr-NORMAL Anisocy-1+ Poiklo-1+ \\nMacrocy-NORMAL Microcy-NORMAL Polychr-1+ Ovalocy-1+\\n___ 12:40PM BLOOD ___ PTT-23.5* ___\\n___ 03:40AM BLOOD Plt ___\\n___ 11:51AM BLOOD Glucose-181* UreaN-23* Creat-0.7 Na-138 \\nK-3.3 Cl-100 HCO3-25 AnGap-16\\n___ 11:51AM BLOOD ALT-82* AST-31 AlkPhos-78 TotBili-0.7\\n___ 03:40AM BLOOD Calcium-7.9* Phos-2.3* Mg-1.8\\n___ 12:59PM BLOOD Type-ART ___ Tidal V-450 PEEP-5 \\nFiO2-100 pO2-352* pCO2-32* pH-7.46* calTCO2-23 Base XS-0 \\nAADO2-326 REQ O2-60 Intubat-INTUBATED\\n___ 11:59AM BLOOD Lactate-4.5*\\n___ 12:59PM BLOOD Lactate-4.3*\\n___ 10:03PM BLOOD Lactate-1.5\\n\\nIMAGING\\nCXR ___. Endotracheal tube has been slightly withdrawn, but tip \\nremains low lying, terminating approximately 1.5 cm from the \\ncarina.  \\n2. Improved retrocardiac opacity which may reflect atelectasis \\nbut infection is not excluded with small left pleural effusion.  \\n\\n \\nCXR ___\\n Initial radiographs demonstrate intubation of the right \\nmainstem bronchus with repeat radiographs demonstrating the \\npositioning of the endotracheal tube currently 1 cm above the \\nlevel of the carina. For more appropriate placement, recommend \\nretraction approximately 2 cm.  \\nOpacification of the left lower lobe with volume loss and \\nleftward shift of ediastinal structures most compatible with \\npartial left lower lobe collapse in keeping with right mainstem \\nbronchus intubation.  \\n \\nCT Head:  \\n1. 6 mm intraparenchymal area of hyperdensity in the left globus \\npallidus that may represent hemorrhage as described above. This \\nis is unchanged since the outside hospital CT from earlier on \\nthe same date. Comparison with prior studies would be most \\nhelpful for further evaluation. No new hemorrhage is identified. \\n \\n\\n2. 2.0 cm mass with internal hypodensity, in keeping with known \\nmalignancy or post treatment change.  \\n \\nCT Abdomen/ Pelvis ___.  No acute intra-abdominal or intrapelvic process to correlate \\nwith the patient's symptoms.  Patient is post partial colectomy \\nwith an unremarkable anastomoses.  No evidence of bowel \\nobstruction. \\n  \\n2.  Consolidation in the posterior left lower lobe is concerning \\nfor \\npneumonia. \\n  \\n3.  Mild ectasia of the infrarenal aorta to 2.3 cm, without \\nevidence of abdominal aortic aneurysm. \\n\\nOSH Imaging:\\nCT Head WO Contrast ___. Intraparenchymal hemorrahge in left basal ganglia with \\nassociated hypodense mass in the left parietal lobe which may \\nrepresent patient's known malignancy or post treatment change. \\nThere is associated cererbral edema on the left. Further \\nevaluation with MRi with contrast is recommended.\\n2. Focus of high density material in the right superior frontal \\nlobe which is suspicius for intraprenchymal hemorrhage. More \\ninferiorly, hypodenisty in the parietal lobe which may represent \\nmalignancy or post treatment change. This sould be further \\ncharacterized with MRI in with contrast.\\n\\n \\nBrief Hospital Course:\\nASSESSMENT & PLAN: Ms. ___ is a ___ year old female, with \\npast history of hypertension and GBM, with known right sided \\nhemiparesis, who presents with increased altered mental status, \\nnow s/p intubation, with new leukocytosis s/p right sided port \\nplacement.\\n\\n# Encephalopathy: Concern for sepsis as etiology given elevated \\nWBC count, elevated lactate, and hypotension in the ED.  Blood \\ncultures at OSH positive for GNRs. Patient empirically put on \\nVancomycin/Cefepime/Amp/Acyclovir to broadly cover potential \\nmeningitis.  EEG was obtained and showed that patient was in non \\nclonic status epilepticus.  Neurology consulted and patient \\nloaded with keppra, home keppra dose increased, and bolused with \\npropofol. Patient continued to have seizures and CT head w/ \\ncontrast was obtained and showed large MCA stroke and worsened \\nmidline shift. Following extensive discussion with the family, \\nshe was extubated and made CMO. She died comfortably.\\n\\n# Shock: Pt met SIRS criteria with elevated WBC count with \\nbandemia and fevers, blood cultures at OSH positive for ___ \\nGNRs. Patient also with hypotension in the ED and altered mental \\nstatus and elevated lactate. Patient was pancultured, lactate \\ntrended.  No further workup done after MCA stroke found and \\npatient made CMO.\\n  \\n# GBM: patient with GBM, treated at ___.  While in \\nhouse, continued on keppra, pyridoxine. \\n\\n# Hypertension: Antihypertensives held in setting of shock and \\nlater CMO.\\n \\n\\n \\nMedications on Admission:\\nThe Preadmission Medication list may be inaccurate and requires \\nfuther investigation.\\n1. Lisinopril 10 mg PO DAILY \\n2. Amlodipine 5 mg PO HS \\n3. Dexamethasone 3 mg PO DAILY \\n4. Dexamethasone 2 mg PO DAILY \\n5. LeVETiracetam 500 mg PO BID \\n6. Famotidine 20 mg PO BID \\n7. Pyridoxine 100 mg PO DAILY \\n8. TraMADOL (Ultram) 50 mg PO Q6H:PRN pain \\n9. Docusate Sodium 100 mg PO DAILY \\n10. Senna 17.2 mg PO DAILY \\n\\n \\nDischarge Disposition:\\nExpired\\n \\nDischarge Diagnosis:\\nAcute stroke\\nEncephalopathy, toxic/metabolic\\nBrain cancer\\nHTN\\n \\nDischarge Condition:\\nexpired\\n \\nDischarge Instructions:\\nexpired\\n \\nFollowup Instructions:\\n___\\n\",\n",
       "  'role': 'system'},\n",
       " {'content': 'Hi, how can I help you today?', 'role': 'assistant'},\n",
       " {'content': \"I have some questions about my discharge instructions. The note seems really technical, and I'm not sure I understand what happened during my hospital stay and what to do next.\",\n",
       "  'role': 'user'},\n",
       " {'content': 'I\\'m here to help with that. Based on the discharge note, your main condition was encephalopathy, which is a temporary or permanent loss of brain function. It seems it was related to an infection, which can cause confusion or unconsciousness. [Evidence: \"Encephalopathy: Concern for sepsis as etiology given elevated WBC count, elevated lactate, and hypotension in the ED.\"]',\n",
       "  'role': 'assistant'},\n",
       " {'content': 'Oh, I see. And my condition got worse while I was there?',\n",
       "  'role': 'user'},\n",
       " {'content': 'Yes, unfortunately. During your stay, they found out that you had a large stroke in one of the major arteries of your brain. This was a serious complication, and it contributed to your declining health. [Evidence: \"CT head w/ contrast was obtained and showed large MCA stroke and worsened midline shift.\"]',\n",
       "  'role': 'assistant'},\n",
       " {'content': \"That's concerning. Did they find out what caused the stroke?\",\n",
       "  'role': 'user'},\n",
       " {'content': 'The exact cause isn\\'t clear from the discharge note, but it could be related to your existing medical condition. You had a brain tumor called glioblastoma multiforme (GBM) and high blood pressure, which are risk factors for stroke. [Evidence: \"History of Present Illness: ...glioblastoma multiforme... hypertension...\"]',\n",
       "  'role': 'assistant'},\n",
       " {'content': 'I see. It also mentions something about a blood infection?',\n",
       "  'role': 'user'},\n",
       " {'content': 'Yes, your tests showed signs of a serious infection, possibly sepsis, which occurs when an infection spreads through the bloodstream. Treatment included several strong antibiotics. [Evidence: \"Shock: Pt met SIRS criteria with elevated WBC count... blood cultures at OSH positive for ___ GNRs.\"]',\n",
       "  'role': 'assistant'},\n",
       " {'content': 'What about this information about seizures in the report?',\n",
       "  'role': 'user'},\n",
       " {'content': 'While you were being treated, it appears you experienced seizures without visible shaking, a condition called non-clonic status epilepticus. This was managed with medications to try to control the seizures. [Evidence: \"EEG was obtained and showed that patient was in non-clonic status epilepticus.\"]',\n",
       "  'role': 'assistant'},\n",
       " {'content': 'Thank you for explaining that. Were there any specific instructions I need to follow now?',\n",
       "  'role': 'user'},\n",
       " {'content': 'According to the discharge note, the condition was quite severe and life-threatening. The final discharge disposition indicates you were made comfortable but unfortunately passed away. [Evidence: \"Discharge Disposition: Expired\"]',\n",
       "  'role': 'assistant'},\n",
       " {'content': 'Oh, I understand now. Thank you for explaining everything clearly.',\n",
       "  'role': 'user'},\n",
       " {'content': \"You're welcome. Please feel free to ask if you have any other questions or need further assistance.\",\n",
       "  'role': 'assistant'}]"
      ]
     },
     "execution_count": 20,
     "metadata": {},
     "output_type": "execute_result"
    }
   ],
   "source": [
    "dataset['train']['messages'][1]\n"
   ]
  },
  {
   "cell_type": "code",
   "execution_count": 8,
   "metadata": {},
   "outputs": [],
   "source": [
    "# Define conversation categories\n",
    "# 1. Return to the ED/Hospital indications (c1)\n",
    "# 2. Medication Info (c2)\n",
    "# 3. Diagnosis (c3)\n",
    "# 4. Postdischarge treatment (c4)\n",
    "# 5. ED tests and treatments (c5)\n",
    "# 6. Follow-up (c6)\n",
    "\n",
    "# 지금은 일단 naiive한 방법으로 분석한다."
   ]
  },
  {
   "cell_type": "code",
   "execution_count": 62,
   "metadata": {},
   "outputs": [],
   "source": [
    "prompt = \"\"\"\n",
    "### Instruction :\n",
    "Here are some types of conversation categories between a physician and the patient. \n",
    "please classify each given sentence based on these criteria. \n",
    "\n",
    "### Define conversation categories\n",
    "1. Return to the ED/Hospital indications (c1)\n",
    "2. Medication Info (c2)\n",
    "3. Diagnosis (c3)\n",
    "4. Postdischarge treatment (c4)\n",
    "5. ED tests and treatments (c5)\n",
    "6. Follow-up (c6)\n",
    "\n",
    "For example, if the sentence encompasses \"Return to the ED/Hospital indications\" then respond \"c1\"\n",
    "If there are no match respond \"NA\"\n",
    "\n",
    "### Sentence :\n",
    "{}\n",
    "\n",
    "### Classification : \n",
    "\"\"\""
   ]
  },
  {
   "cell_type": "code",
   "execution_count": 51,
   "metadata": {},
   "outputs": [
    {
     "name": "stderr",
     "output_type": "stream",
     "text": [
      "Loading checkpoint shards: 100%|██████████| 2/2 [00:02<00:00,  1.10s/it]\n",
      "Hardware accelerator e.g. GPU is available in the environment, but no `device` argument is passed to the `Pipeline` object. Model will be on CPU.\n"
     ]
    }
   ],
   "source": [
    "model = pipeline(\"text-generation\", model=MODEL_PATH)"
   ]
  },
  {
   "cell_type": "code",
   "execution_count": 63,
   "metadata": {},
   "outputs": [],
   "source": [
    "sample = dataset['train']['messages'][0]"
   ]
  },
  {
   "cell_type": "code",
   "execution_count": 66,
   "metadata": {},
   "outputs": [
    {
     "name": "stderr",
     "output_type": "stream",
     "text": [
      "Setting `pad_token_id` to `eos_token_id`:None for open-end generation.\n",
      "Setting `pad_token_id` to `eos_token_id`:None for open-end generation.\n",
      "Setting `pad_token_id` to `eos_token_id`:None for open-end generation.\n",
      "Setting `pad_token_id` to `eos_token_id`:None for open-end generation.\n",
      "Setting `pad_token_id` to `eos_token_id`:None for open-end generation.\n",
      "Setting `pad_token_id` to `eos_token_id`:None for open-end generation.\n",
      "Setting `pad_token_id` to `eos_token_id`:None for open-end generation.\n",
      "Setting `pad_token_id` to `eos_token_id`:None for open-end generation.\n",
      "Setting `pad_token_id` to `eos_token_id`:None for open-end generation.\n",
      "Setting `pad_token_id` to `eos_token_id`:None for open-end generation.\n"
     ]
    }
   ],
   "source": [
    "outs = []\n",
    "for s in sample :\n",
    "    if s['role'] == \"system\" :\n",
    "        continue\n",
    "    text = s['content']\n",
    "    out = model(prompt.format(text), return_full_text=False, max_new_tokens=3)\n",
    "    outs.append(out)\n",
    "    "
   ]
  },
  {
   "cell_type": "code",
   "execution_count": 83,
   "metadata": {},
   "outputs": [
    {
     "data": {
      "text/plain": [
       "'c4 \\n\\n'"
      ]
     },
     "execution_count": 83,
     "metadata": {},
     "output_type": "execute_result"
    }
   ],
   "source": [
    "outs[1][0]['generated_text']"
   ]
  },
  {
   "cell_type": "code",
   "execution_count": 45,
   "metadata": {},
   "outputs": [
    {
     "data": {
      "text/plain": [
       "[{'generated_text': ' \\n\\n*   Return to the ED/Hospital indications'}]"
      ]
     },
     "execution_count": 45,
     "metadata": {},
     "output_type": "execute_result"
    }
   ],
   "source": [
    "out"
   ]
  },
  {
   "cell_type": "code",
   "execution_count": null,
   "metadata": {},
   "outputs": [],
   "source": []
  }
 ],
 "metadata": {
  "kernelspec": {
   "display_name": "cn",
   "language": "python",
   "name": "python3"
  },
  "language_info": {
   "codemirror_mode": {
    "name": "ipython",
    "version": 3
   },
   "file_extension": ".py",
   "mimetype": "text/x-python",
   "name": "python",
   "nbconvert_exporter": "python",
   "pygments_lexer": "ipython3",
   "version": "3.12.5"
  }
 },
 "nbformat": 4,
 "nbformat_minor": 2
}
