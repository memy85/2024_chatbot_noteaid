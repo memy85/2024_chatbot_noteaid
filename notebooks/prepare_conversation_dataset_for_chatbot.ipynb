{
 "cells": [
  {
   "cell_type": "code",
   "execution_count": 12,
   "metadata": {},
   "outputs": [],
   "source": [
    "from utils import *\n",
    "\n",
    "config = load_config()\n",
    "PROJECT_PATH = config.project_path\n",
    "DATA_PATH = PROJECT_PATH.joinpath(\"data/processed\")"
   ]
  },
  {
   "cell_type": "code",
   "execution_count": 13,
   "metadata": {},
   "outputs": [],
   "source": [
    "import pandas as pd\n",
    "import pickle\n",
    "\n",
    "pitts = pd.read_pickle(DATA_PATH.joinpath(\"pittsburgh_chat.pkl\"))\n",
    "mimic = pd.read_pickle(DATA_PATH.joinpath(\"mimic_chat.pkl\"))"
   ]
  },
  {
   "cell_type": "code",
   "execution_count": 14,
   "metadata": {},
   "outputs": [],
   "source": [
    "pitts['data_source'] = \"pitts\"\n",
    "mimic['data_source'] = \"mimic\""
   ]
  },
  {
   "cell_type": "code",
   "execution_count": 15,
   "metadata": {},
   "outputs": [],
   "source": [
    "pitts = pitts.rename(columns = {\"reportID\" : \"note_id\"})\n",
    "pitts = pitts[['data_source', 'note_id', 'texts', 'reformatted_output']]"
   ]
  },
  {
   "cell_type": "code",
   "execution_count": 16,
   "metadata": {},
   "outputs": [],
   "source": [
    "mimic = mimic[['data_source','note_id', 'texts', 'reformatted_output']]"
   ]
  },
  {
   "cell_type": "code",
   "execution_count": 17,
   "metadata": {},
   "outputs": [],
   "source": [
    "pitts_and_mimic = pd.concat([pitts, mimic],ignore_index=True)"
   ]
  },
  {
   "cell_type": "code",
   "execution_count": 18,
   "metadata": {},
   "outputs": [
    {
     "data": {
      "text/html": [
       "<div>\n",
       "<style scoped>\n",
       "    .dataframe tbody tr th:only-of-type {\n",
       "        vertical-align: middle;\n",
       "    }\n",
       "\n",
       "    .dataframe tbody tr th {\n",
       "        vertical-align: top;\n",
       "    }\n",
       "\n",
       "    .dataframe thead th {\n",
       "        text-align: right;\n",
       "    }\n",
       "</style>\n",
       "<table border=\"1\" class=\"dataframe\">\n",
       "  <thead>\n",
       "    <tr style=\"text-align: right;\">\n",
       "      <th></th>\n",
       "      <th>data_source</th>\n",
       "      <th>note_id</th>\n",
       "      <th>texts</th>\n",
       "      <th>reformatted_output</th>\n",
       "    </tr>\n",
       "  </thead>\n",
       "  <tbody>\n",
       "    <tr>\n",
       "      <th>0</th>\n",
       "      <td>pitts</td>\n",
       "      <td>report7660</td>\n",
       "      <td>[ Report de-identified ( Safe-harbor compliant...</td>\n",
       "      <td>{'messages': [{'role': 'system', 'content': 'Y...</td>\n",
       "    </tr>\n",
       "    <tr>\n",
       "      <th>1</th>\n",
       "      <td>pitts</td>\n",
       "      <td>report4725</td>\n",
       "      <td>[ Report de-identified ( Safe-harbor compliant...</td>\n",
       "      <td>{'messages': [{'role': 'system', 'content': 'Y...</td>\n",
       "    </tr>\n",
       "    <tr>\n",
       "      <th>2</th>\n",
       "      <td>pitts</td>\n",
       "      <td>report5005</td>\n",
       "      <td>[ Report de-identified ( Safe-harbor compliant...</td>\n",
       "      <td>{'messages': [{'role': 'system', 'content': 'Y...</td>\n",
       "    </tr>\n",
       "    <tr>\n",
       "      <th>3</th>\n",
       "      <td>pitts</td>\n",
       "      <td>report2854</td>\n",
       "      <td>[ Report de-identified ( Safe-harbor compliant...</td>\n",
       "      <td>{'messages': [{'role': 'system', 'content': 'Y...</td>\n",
       "    </tr>\n",
       "    <tr>\n",
       "      <th>4</th>\n",
       "      <td>pitts</td>\n",
       "      <td>report6420</td>\n",
       "      <td>[ Report de-identified ( Safe-harbor compliant...</td>\n",
       "      <td>{'messages': [{'role': 'system', 'content': 'Y...</td>\n",
       "    </tr>\n",
       "  </tbody>\n",
       "</table>\n",
       "</div>"
      ],
      "text/plain": [
       "  data_source  ...                                 reformatted_output\n",
       "0       pitts  ...  {'messages': [{'role': 'system', 'content': 'Y...\n",
       "1       pitts  ...  {'messages': [{'role': 'system', 'content': 'Y...\n",
       "2       pitts  ...  {'messages': [{'role': 'system', 'content': 'Y...\n",
       "3       pitts  ...  {'messages': [{'role': 'system', 'content': 'Y...\n",
       "4       pitts  ...  {'messages': [{'role': 'system', 'content': 'Y...\n",
       "\n",
       "[5 rows x 4 columns]"
      ]
     },
     "execution_count": 18,
     "metadata": {},
     "output_type": "execute_result"
    }
   ],
   "source": [
    "pitts.head()"
   ]
  },
  {
   "cell_type": "code",
   "execution_count": 19,
   "metadata": {},
   "outputs": [
    {
     "data": {
      "text/plain": [
       "{'messages': [{'role': 'system',\n",
       "   'content': 'You are a helpful assistant trained for healthcare-related text processing'},\n",
       "  {'role': 'doctor', 'content': 'Hi, how can I help you today?'},\n",
       "  {'role': 'patient',\n",
       "   'content': 'I have some questions about my discharge instructions.'},\n",
       "  {'role': 'doctor',\n",
       "   'content': 'Sure, let\\'s go through them together. Firstly, you\\'ve been diagnosed with osteoarthritis in your right hip and you\\'ve had hip replacement surgery on February 3rd. You were in the hospital for a few days and it sounds like your recovery is going well. (Primary Diagnosis: \"Osteoarthritis of the right hip.\" Surgical Procedure: \"Right total hip arthroplasty under spinal anesthesia.\")'},\n",
       "  {'role': 'patient',\n",
       "   'content': \"That's right. They did say I was recovering well.\"},\n",
       "  {'role': 'doctor',\n",
       "   'content': 'Exactly. Post-surgery, you\\'ll need to continue doing physical and occupational therapy exercises at home to help with your movement and recovery. (\"The patient is to continue physical therapy and occupational therapy...\")'},\n",
       "  {'role': 'patient',\n",
       "   'content': 'I remember doing those in the hospital. Is there anything I need to keep taking or avoid?'},\n",
       "  {'role': 'doctor',\n",
       "   'content': 'Yes, you should continue taking a medication called Fragmin to prevent blood clots while you recover. You\\'ll also have pain medication—Vicodin—to help manage any pain. However, be sure not to drive while taking these pain medications. (\"The patient will be continuing Fragmin for anticoagulation... She has Vicodin to control pain... No driving while on pain medications.\")'},\n",
       "  {'role': 'patient',\n",
       "   'content': 'Okay, I’ll keep that in mind. And what do I do if I feel anything unusual?'},\n",
       "  {'role': 'doctor',\n",
       "   'content': 'If you experience symptoms like chest pain, shortness of breath, pain, or swelling in your calves, you should go to the emergency department right away. And for any other questions or concerns, feel free to call the office. (\"Go to the emergency department for any chest pain, shortness of breath, calf pain, or swelling... The patient is to call the office with any questions, concerns, or complaints.\")'},\n",
       "  {'role': 'patient',\n",
       "   'content': 'Got it. Anything else I should know about appointments or follow-up?'},\n",
       "  {'role': 'doctor',\n",
       "   'content': 'You need to have a follow-up appointment with Dr. ZZZ in about a month to check on your recovery progress. (\"The patient\\'s followup appointment with Dr. ZZZ is in 1 month.\")'},\n",
       "  {'role': 'patient',\n",
       "   'content': 'Thank you, that really helps clarify everything for me.'}]}"
      ]
     },
     "execution_count": 19,
     "metadata": {},
     "output_type": "execute_result"
    }
   ],
   "source": [
    "pitts['reformatted_output'][1]"
   ]
  },
  {
   "cell_type": "code",
   "execution_count": 20,
   "metadata": {},
   "outputs": [],
   "source": [
    "def format_input_text_for_training(row) :\n",
    "    conversation = \"\"\n",
    "    for turn in row['reformatted_output']['messages'] :\n",
    "        if turn['role'] == 'system' :\n",
    "            conversation += f\"\"\"You are a helpful assistant in healthcare. Here is the patient's discharge note. \n",
    "### Discharge note :\n",
    "{row['texts']}\n",
    "\\n\\n\n",
    "            \"\"\"\n",
    "        conversation += f\"{turn['role']} : {turn['content']}\\n\"\n",
    "    return conversation"
   ]
  },
  {
   "cell_type": "code",
   "execution_count": 21,
   "metadata": {},
   "outputs": [],
   "source": [
    "def format_for_sft(row) :\n",
    "    discharge_note = row.texts\n",
    "    conversation = row.reformatted_output\n",
    "    if conversation['messages'][0]['role'] == 'system' :\n",
    "        system_message = f\"You are a helpful assistant trained for healthcare. Here is the patient's discharge note. \\n\\n {discharge_note}\"\n",
    "        conversation['messages'][0]['content'] = system_message\n",
    "    for conv in row.reformatted_output['messages'] :\n",
    "        if conv['role'] == 'doctor' :\n",
    "            conv['role'] = 'assistant'\n",
    "        elif conv['role'] == 'patient' :\n",
    "            conv['role'] = 'user'\n",
    "\n",
    "    return conversation"
   ]
  },
  {
   "cell_type": "code",
   "execution_count": 22,
   "metadata": {},
   "outputs": [],
   "source": [
    "pitts_and_mimic['conversation'] = pitts_and_mimic.apply(format_for_sft,axis=1)\n"
   ]
  },
  {
   "cell_type": "code",
   "execution_count": 25,
   "metadata": {},
   "outputs": [],
   "source": [
    "import json, jsonlines\n",
    "\n",
    "conversation = pitts_and_mimic['conversation'].to_list()\n",
    "\n",
    "with jsonlines.open(DATA_PATH.joinpath(\"conversation_dataset.jsonl\"), 'w') as f :\n",
    "    json.dump(conversation,f)"
   ]
  },
  {
   "cell_type": "code",
   "execution_count": 64,
   "metadata": {},
   "outputs": [],
   "source": [
    "# test the saved dataset\n",
    "with open(DATA_PATH.joinpath(\"conversation_dataset.json\"), 'r') as f :\n",
    "    conversation = json.load(f)"
   ]
  },
  {
   "cell_type": "code",
   "execution_count": 65,
   "metadata": {},
   "outputs": [],
   "source": [
    "import random\n",
    "random.seed(42)\n",
    "\n",
    "random.shuffle(conversation)"
   ]
  },
  {
   "cell_type": "code",
   "execution_count": 66,
   "metadata": {},
   "outputs": [],
   "source": [
    "idx = round(len(conversation) * 0.8)\n",
    "train, test = conversation[:idx], conversation[idx:]"
   ]
  },
  {
   "cell_type": "code",
   "execution_count": 67,
   "metadata": {},
   "outputs": [],
   "source": [
    "import jsonlines"
   ]
  },
  {
   "cell_type": "code",
   "execution_count": 68,
   "metadata": {},
   "outputs": [],
   "source": [
    "with jsonlines.open(DATA_PATH.joinpath(\"train_conversation.jsonl\"), 'w') as f :\n",
    "    f.write(train)\n",
    "with jsonlines.open(DATA_PATH.joinpath(\"test_conversation.jsonl\"), 'w') as f :\n",
    "    f.write(test)"
   ]
  },
  {
   "cell_type": "code",
   "execution_count": 84,
   "metadata": {},
   "outputs": [
    {
     "data": {
      "text/plain": [
       "{'messages': [{'role': 'system',\n",
       "   'content': \"You are a helpful assistant trained for healthcare. Here is the patient's discharge note. \\n\\n  \\nName:  ___             Unit No:   ___\\n \\nAdmission Date:  ___              Discharge Date:   ___\\n \\nDate of Birth:  ___             Sex:   F\\n \\nService: NEUROLOGY\\n \\nAllergies: \\nNo Known Allergies / Adverse Drug Reactions\\n \\nAttending: ___.\\n \\nChief Complaint:\\nmutism, unresponsivess; called as CODE STROKE. \\n\\n \\nMajor Surgical or Invasive Procedure:\\nlumbar puncture\\n \\nHistory of Present Illness:\\nMs. ___ is currently mute and unable to provide\\nhistory; following history obtained from EMS report and medical\\nrecords. \\n\\n  Ms. ___ is a ___ year-old woman with PMH significant for\\na. fib (on aspirin) and schizophrenia (on seroquel and haldol)\\nwith recent discharge for catatoinc state due to\\nschizophrenia(mute, unresponsive to commands; at time of\\ndischarge she was able to hold conversation), who presents today\\nafter witnessed fall at ___ station. She was walking at the train\\nstation and around 12:30 ___, was witnessed to go down to her\\nknees. She was helped to the ground. She was not talking and not\\nfollowing commands. CODE STROKE called upon arrival to ED. \\n  During recent admission for similar presentation, work-up was\\nnondiagnostic. CT showed no acute intracranial process. EEG\\nshowed moderate to severe diffuse background slowing; left\\nhemisphere evaluation limited by artifact but there were no\\nseizures identified. She had no electrolye abnormalities and a\\nnegative tox \\nscreen. Urine and blood cultures were negative. Psychiatry was\\nconsulted and felt that presentation represented a catatonic \\nform\\nof schizophrenia. She was started on lorazepam 1 mg TID and her\\nmental status was reported to gradually improve; she became more\\ninteractive, though remained disoriented and tangential.   \\n\\nROS: unable to obtain as patient is mute. \\n\\n \\nPast Medical History:\\n-Atrial Fibrillation (on ASA)\\n-Microcytic Anemia - extensive recent GI wkup at ___ unrevealing \\n\\n-Schizophrenia - diagnosed age ___  \\n-Eczema \\n\\n \\nSocial History:\\n___\\nFamily History:\\n(per OMR): Mother with ETOH abuse, no FH of heart\\ndisease, HTN, DM or malignancy.\\n\\n \\nPhysical Exam:\\nAt admission:\\nVitals: P: 117 R: 39  BP: 118/80 SaO2: 97%\\n\\nGeneral: awake, eyes open, not speaking and not following any\\ncommands. Tardive dyskinesia or lips, tongue. \\nHEENT: NC/AT, sclera anicteric, MMM\\nNeck: supple \\nCV: Irregular, tachycardic, S1S2\\nLungs: Clear to auscultation b/l anteriorly \\nAbdomen: soft, nondistended. +BS\\nExt: warm, ___ edema b/l \\n \\n___ Stroke Scale score was: 18  \\n1a. Level of Consciousness: 0  \\n1b. LOC Question: 2\\n1c. LOC Commands: 2  \\n2. Best gaze: 0  \\n3. Visual fields: 2  \\n4. Facial palsy: 0\\n5a. Motor arm, left: 0  \\n5b. Motor arm, right: 2  \\n6a. Motor leg, left: 1  \\n6b. Motor leg, right: 1  \\n7. Limb Ataxia: 0  \\n8. Sensory: 2  \\n9. Language: 3  \\n10. Dysarthria: 1\\n11. Extinction and Neglect: 2  \\n\\nNeurologic Exam: eyes open, awake, nonverbal, not responding to\\nany commands. She initially had a left gaze preference, but this\\nlater resolved. PERRL 4-->3 mm b/l. Not tracking but did look\\nboth left and right. She blinked to threat on the left, but not\\nthe right. Face is symmetric. She was not moving any extremities\\nspontaneously. Decreased tone RUE. Normal tone in LUE and ___ \\nb/l.\\nWhen her left arm was elevated, she was able to maintain it\\nantigravity with no drift. When her right arm was elevated, it\\ndrifted down rapidly. With regards to lower extremities, she\\nwould not maintain either when lifted antigravity, but when\\nflexed at knee and feet placed on bed, she would maintain this\\nposition. Grimmaced to noxious stimuli on left, but not on \\nright.\\nReflexes 2+ and symmetric at biceps, triceps, brachioradialis \\nand\\npatellae. No ankle jerks. Extensor plantar response b/l. \\nAt discharge:\\nNeuro: awake, alert. Intermittently oriented to self and month. \\nPerseverative speech. Intermittently follows simple commands. \\n \\nPertinent Results:\\n___ 01:11PM   PH-7.27* COMMENTS-GREEN TOP\\n___ 01:04PM   WBC-10.2 RBC-3.94* HGB-10.1* HCT-33.5* MCV-85 \\nMCH-25.6* MCHC-30.0* RDW-16.9*\\n___ 01:04PM   PLT COUNT-490*\\n___ 01:04PM   ___ PTT-34.5 ___\\n___ 01:04PM   UREA N-16\\n___ 01:04PM   CREAT-0.8\\n___ 01:11PM   freeCa-1.26\\n___ 01:11PM   GLUCOSE-91 LACTATE-2.4* NA+-138 K+-4.3 \\nCL--102 TCO2-25\\n___ 01:11PM   PH-7.27* COMMENTS-GREEN TOP\\n___ 09:59PM   PHENYTOIN-12.7\\n___ 01:56PM URINE  RBC-<1 WBC-<1 BACTERIA-NONE YEAST-NONE \\nEPI-0\\n___ 01:56PM URINE  BLOOD-NEG NITRITE-NEG PROTEIN-TR \\nGLUCOSE-NEG KETONE-NEG BILIRUBIN-NEG UROBILNGN-NEG PH-5.5 \\nLEUK-NEG\\n___ 01:56PM URINE  COLOR-Yellow APPEAR-Clear SP ___\\n___ 01:56PM URINE  bnzodzpn-NEG barbitrt-NEG opiates-NEG \\ncocaine-NEG amphetmn-NEG mthdone-NEG\\n\\n___ EEG:\\nIMPRESSION: This is an abnormal routine EEG due to the presence \\nof \\nattenuation of left hemisphere activity which is also slower \\ncompared to \\nthe right hemisphere, indicative of diffuse left hemisphere \\ndysfunction. \\nNo clear epileptiform discharges or electrographic seizures were \\nseen. \\nThe background was otherwise slightly slow and disorganized \\nreaching a \\nmaximum of 7 Hz consistent with a mild encephalopathy which \\ncould be \\nseen in toxic/metabolic disturbances, infections, and medication \\n\\neffects. The diffuse superimposed beta frequency activity is \\nmost likely \\ndue to treatment with benzodiazepines. Note is made of an \\nirregularly \\nirregular cardiac rhythm consistent with the patient's history \\nof atrial \\nfibrillation. \\n\\n___ EEG:\\nIMPRESSION: There were no clinical seizures during this session. \\n\\nHowever, there is a very active interictal epileptic disturbance \\nover \\nthe left temporal region along with a slow wave focus in that \\narea \\nsuggestive of a subcortical structural lesion. There is mild \\ndiffuse \\nbackground slowing which seemed to improve as the study \\nprogressed into \\nthe following morning. \\n\\n___ EEG:\\nIMPRESSION: This prolonged continuous video EEG shows focal slow \\nwaves \\nover the left temporal region compatible with a structural \\nlesion along \\nwith paroxysmal interictal epileptiform activity from the same \\nregion. \\nThe background rhythm seemed stable but better developed over \\nthe right \\nhemisphere and there continues to be a cardiac rhythm \\ndisturbance. \\n\\n___ EEG:\\nIMPRESSION: This is an abnormal continuous video EEG because of \\nfocal \\nleft temporal slowing with epileptiform discharges phase \\nreversing at \\nF7, indicative of an area of focal epileptogenic cortex as well \\nas \\nunderlying subcortical dysfunction. The discharges did not \\nappear \\nperiodic or repetitive to suggest ongoing seizures. There was \\none \\npushbutton activation for patient hitting the bed rail with her \\nright \\nhand but there was no electrographic correlate. The background \\nremains \\nlow voltage and slow indicative of a moderate to severe \\nencephalopathy. \\nNo clear electrographic seizures were seen. \\n\\nECG:\\nAtrial fibrillation with rapid ventricular response. Low limb \\nlead voltage. Late R wave progression. Minor T wave \\nabnormalities. Since the previous tracing ___ the rate is \\nfaster. Voltage is lower. T wave abnormalities are more \\nprominent. Clinical correlation is suggested.  \\n  Intervals Axes \\nRate PR QRS QT/QTc P QRS T \\n121 0 74 ___ \\n \\n1 view CXR:\\nIMPRESSION: Limited due to low lung volumes without definite \\nsigns of \\npneumonia or overt CHF. \\n\\nHead and Neck CTA and CTP with and without contrast:\\nIMPRESSION: \\n1. Atypical diffusely decreased mean transit time, increased \\nvolume and \\nblood flow to the left cerebral hemisphere which could reflect \\nhyperperfusion. \\n2. No evidence of infarct or other acute intracranial pathology. \\nNo vascular occlusion. \\n\\nMRI Head with and without contrast:\\nIMPRESSION: Subtle hyperintensity in the posterior portion of \\nthe left \\nthalamus could be due to remote infarct and is not typical for a \\nneoplastic process. No abnormal enhancement is seen. However, \\ngiven the subtle nature of the abnormality, followup study \\nincluding coronal T2-weighted images should be obtained in four \\nto six weeks. No acute infarcts are seen. \\n\\nCXR - 1 view:\\n1. Interval placement of a feeding tube, which courses below the \\ndiaphragm \\nwith the tip likely within the stomach. The patient is markedly \\nrotated to \\nthe right, limiting evaluation of the cardiac and mediastinal \\ncontours.  \\nOverall, however, there is a more focal airspace opacity in the \\nleft mid and lower lung, which may reflect asymmetric pulmonary \\nedema or an infectious process, less likely atelectasis. \\nClinical correlation is advised. Possible layering left \\neffusion. \\n\\nCerebrospinal fluid: NEGATIVE FOR MALIGNANT CELLS. \\n___ 03:49PM CEREBROSPINAL FLUID (CSF) WBC-2 RBC-650* \\nPolys-41 ___ ___ 03:49PM CEREBROSPINAL FLUID (CSF) WBC-2 RBC-700* \\nPolys-23 ___ ___ 03:49PM CEREBROSPINAL FLUID (CSF) TotProt-44 Glucose-87 \\nLD(LDH)-28\\nGRAM STAIN (Final ___: \\n      NO POLYMORPHONUCLEAR LEUKOCYTES SEEN. \\n      NO MICROORGANISMS SEEN. \\n\\n   FLUID CULTURE (Final ___:    NO GROWTH. \\n\\n \\nBrief Hospital Course:\\n___ yo F with afib and schizophrenia with history of \\nmutism/catatonia apparently previously treated with ativan, \\npresents after a fall at T-station following recent discharge, \\nbrought back in and found to have right sided jerking episode in \\nthe ED prior to STATNET. EEG monitoring thereafter showing only \\nL sided slowing without epileptiform activity. Subsequent MRI \\nnot showing any correlates in that would account for her \\nseizures. \\n\\n# Neuro: loaded with phenytoin, and continued on maintanence \\nphenytoin ___. Started oxcarbamazepine 600mg po bid for \\nlong term seizure control as well. Fluoro-guided lumbar punture \\nwas done (after failed bed side attempts) for first time seizure \\nwork up, which was normal. MRI showed no clear seizure focus. \\nMs. ___ was placed on continuous video EEG monitoring, \\nwhich showed frequent left temporal spikes, which are likely \\ncontributing to the patient's perseverative speech and receptive \\naphasia, however it also is likely related to her schizophrenia \\nas well.  \\n\\n# ___: Atrial fibrillation with AVR. Continue aspirin. \\nCardiology consulted for hard to control RVR. HR better \\ncontrolled on metoprolol 150mg TID and digoxin 60mg po qid. \\nCHADS score 1 - no need for anticoagulation at this time \\n\\n# Psych: Schizophrenia. Continue home medication olanzapine 20mg \\npo qhs.\\n\\n \\nMedications on Admission:\\n1.metoprolol succinate 100 mg Tablet Extended Release 24 hr \\nSig: Three (3) Tablet Extended Release 24 hr PO DAILY (Daily).  \\n2.senna 8.6 mg Tablet Sig: One (1) Tablet PO BID (2 times a \\nday) as needed for constipation .  \\n3.polyethylene glycol 3350 17 gram/dose Powder Sig: One (1) \\npacket PO DAILY (Daily) as needed for constipation.  \\n4.aspirin 325 mg Tablet Sig: One (1) Tablet PO DAILY (Daily).  \\n5.folic acid 1 mg Tablet Sig: One (1) Tablet PO DAILY (Daily).  \\n6.metformin 500 mg Tablet Sig: Two (2) Tablet PO BID (2 times a \\nday).  \\n7.haloperidol 2 mg Tablet Sig: One (1) Tablet PO HS (at \\nbedtime).  \\n8.docusate sodium 100 mg Capsule Sig: One (1) Capsule PO twice \\na day.  \\n9.ascorbic acid ___ mg Tablet Sig: One (1) Tablet PO BID (2 \\ntimes a day).  \\n10.diltiazem HCl 180 mg Capsule, Extended Release Sig: Two (2) \\nCapsule, Extended Release PO DAILY (Daily).  \\n11.quetiapine 100 mg Tablet Sig: One (1) Tablet PO twice a day. \\n12.ferrous sulfate 300 mg (60 mg iron)/5 mL Liquid Sig: One (1)\\nPO DAILY (Daily).  \\n13.lorazepam 1 mg Tablet Sig: One (1) Tablet PO twice a day: \\nPlease taper this medication over then next ___ days.  \\n \\nDischarge Medications:\\n1. folic acid 1 mg Tablet Sig: One (1) Tablet PO DAILY (Daily).  \\n\\n2. ascorbic acid ___ mg Tablet Sig: One (1) Tablet PO BID (2 \\ntimes a day).  \\n3. ferrous sulfate 300 mg (60 mg iron)/5 mL Liquid Sig: Five (5) \\nml PO DAILY (Daily).  \\n4. aspirin 81 mg Tablet, Chewable Sig: One (1) Tablet, Chewable \\nPO DAILY (Daily).  \\n5. metoprolol tartrate 50 mg Tablet Sig: Three (3) Tablet PO Q8H \\n(every 8 hours).  \\n6. docusate sodium 100 mg Capsule Sig: One (1) Capsule PO twice \\na day.  \\n7. phenytoin 50 mg Tablet, Chewable Sig: as directed Tablet, \\nChewable PO three times a day: 100mg po qAM, 100mg po qPM, and \\n150mg po qHS.  \\n8. olanzapine 10 mg Tablet Sig: Two (2) Tablet PO HS (at \\nbedtime).  \\n9. diltiazem HCl 60 mg Tablet Sig: One (1) Tablet PO QID (4 \\ntimes a day): Hold for SBP < 90.  \\n10. oxcarbazepine 600 mg Tablet Sig: One (1) Tablet PO BID (2 \\ntimes a day).  \\n11. metformin 1,000 mg Tablet Sig: One (1) Tablet PO twice a \\nday.  \\n\\n \\nDischarge Disposition:\\nExtended Care\\n \\nFacility:\\n___\\n \\nDischarge Diagnosis:\\nseizures\\nschizophrenia\\natrial fibrillation with RVR\\n\\n \\nDischarge Condition:\\nMental Status: Clear and coherent.\\nLevel of Consciousness: Alert and interactive.\\nActivity Status: Ambulatory - requires assistance \\nNeuro: awake, alert. Intermittently oriented to self and month. \\nPerseverative speech. Intermittently follows simple commands. \\n\\n \\nDischarge Instructions:\\nDear Ms. ___, \\nIt was a pleasure caring for you during your stay. You were \\nadmitted to the hospital for evaluation of a fall while at a T \\nstop. In the emergency room you had 2 witnessed seizures. It is \\nsuspected that your fall may have related to seizure activity. \\nWe started 2 antiseizure medicines, phenytoin and \\noxcarbamazepine. Please continue these medications. We had \\npsychiatry see you during your stay, who recommended continuing \\nyour home olanzapine 20mg po nightly. We also had the \\ncardiologists see you during your stay for your fast heart rate \\nand atrial fibrillation. Currently your heart rate is controlled \\non metoprolol and diltiazem. Please continue these medicines as \\nprescribed. \\n \\nFollowup Instructions:\\n___\\n\"},\n",
       "  {'role': 'assistant', 'content': 'Hi, how can I help you today?'},\n",
       "  {'role': 'user',\n",
       "   'content': 'I have some questions about my discharge instructions.'},\n",
       "  {'role': 'assistant',\n",
       "   'content': 'Sure, I\\'d be happy to help. The main points from your discharge are that you were in the hospital because you fell and had seizures at the train station. (from: \"you were admitted to the hospital for evaluation of a fall while at a T stop. In the emergency room you had 2 witnessed seizures.\")'},\n",
       "  {'role': 'user',\n",
       "   'content': 'Oh, I see. They mentioned medicines. What should I know about them?'},\n",
       "  {'role': 'assistant',\n",
       "   'content': 'Yes, you were started on two medications to help control seizures: phenytoin and oxcarbamazepine. You need to continue taking these medicines. (from: \"We started 2 antiseizure medicines, phenytoin and oxcarbazepine. Please continue these medications.\")'},\n",
       "  {'role': 'user',\n",
       "   'content': 'And what about my heart condition? I remember they said something about my heart rate.'},\n",
       "  {'role': 'assistant',\n",
       "   'content': 'That\\'s correct. You have a condition called atrial fibrillation, which affects your heart rate. Your heart rate is now managed with two medicines, metoprolol and diltiazem. Continue taking them as directed. (from: \"for your fast heart rate and atrial fibrillation. Currently your heart rate is controlled on metoprolol and diltiazem. Please continue these medicines as prescribed.\")'},\n",
       "  {'role': 'user',\n",
       "   'content': 'Thank you, doctor. And what about my schizophrenia medication?'},\n",
       "  {'role': 'assistant',\n",
       "   'content': 'During your stay, the psychiatry team suggested you continue taking your medication for schizophrenia, which is olanzapine, before bed each night. (from: \"Psychiatry see you during your stay, who recommended continuing your home olanzapine 20mg po nightly.\")'},\n",
       "  {'role': 'user',\n",
       "   'content': 'Got it. Is there anything about my condition or how I feel that I should be aware of?'},\n",
       "  {'role': 'assistant',\n",
       "   'content': 'Yes, at discharge, your mental status was clear, and you were alert and able to interact. You may need some assistance with movement. You should follow any other specific instructions your healthcare providers gave you. (from: \"Mental Status: Clear and coherent. Level of Consciousness: Alert and interactive. Activity Status: Ambulatory - requires assistance.\")'},\n",
       "  {'role': 'user',\n",
       "   'content': \"Thank you for explaining everything—it's clearer now.\"},\n",
       "  {'role': 'assistant',\n",
       "   'content': \"You're welcome! If you have any more questions, feel free to ask. Take care, and make sure to follow up as instructed by your healthcare team.\"}]}"
      ]
     },
     "execution_count": 84,
     "metadata": {},
     "output_type": "execute_result"
    }
   ],
   "source": [
    "test[2000]"
   ]
  },
  {
   "cell_type": "code",
   "execution_count": 46,
   "metadata": {},
   "outputs": [],
   "source": [
    "pitts_and_mimic.to_pickle(DATA_PATH.joinpath(\"pitts_and_mimic.pkl\"))"
   ]
  },
  {
   "cell_type": "code",
   "execution_count": 47,
   "metadata": {},
   "outputs": [],
   "source": [
    "import pandas as pd\n",
    "\n",
    "df = pd.read_pickle(\"../data/processed/pitts_and_mimic.pkl\")"
   ]
  },
  {
   "cell_type": "code",
   "execution_count": 95,
   "metadata": {},
   "outputs": [
    {
     "name": "stderr",
     "output_type": "stream",
     "text": [
      "Generating train split: 0 examples [00:00, ? examples/s]"
     ]
    },
    {
     "name": "stderr",
     "output_type": "stream",
     "text": [
      "Generating train split: 3558 examples [00:00, 3668.93 examples/s]\n"
     ]
    }
   ],
   "source": [
    "from datasets import Dataset, load_dataset\n",
    "\n",
    "data = load_dataset(\"json\", data_files=DATA_PATH.joinpath(\"test_conversation.jsonl\").as_posix())"
   ]
  },
  {
   "cell_type": "code",
   "execution_count": 27,
   "metadata": {},
   "outputs": [],
   "source": [
    "model_path = config.model_path('llama3.2-1B')\n",
    "model, tokenizer = config.load_model(model_path)\n"
   ]
  },
  {
   "cell_type": "code",
   "execution_count": null,
   "metadata": {},
   "outputs": [
    {
     "name": "stderr",
     "output_type": "stream",
     "text": [
      "Map: 100%|██████████| 14231/14231 [00:04<00:00, 3091.45 examples/s]\n",
      "Map: 100%|██████████| 3558/3558 [00:01<00:00, 2648.98 examples/s]\n"
     ]
    },
    {
     "data": {
      "text/plain": [
       "DatasetDict({\n",
       "    train: Dataset({\n",
       "        features: ['messages', 'formatted_chat'],\n",
       "        num_rows: 14231\n",
       "    })\n",
       "    test: Dataset({\n",
       "        features: ['messages', 'formatted_chat'],\n",
       "        num_rows: 3558\n",
       "    })\n",
       "})"
      ]
     },
     "execution_count": 30,
     "metadata": {},
     "output_type": "execute_result"
    }
   ],
   "source": [
    "df = data.map(lambda x : {\"formatted_chat\" : tokenizer.apply_chat_template(x[\"messages\"], tokenize=False, add_generation_prompt=False)})"
   ]
  },
  {
   "cell_type": "code",
   "execution_count": 59,
   "metadata": {},
   "outputs": [
    {
     "name": "stdout",
     "output_type": "stream",
     "text": [
      "You are a helpful assistant in healthcare. Here is the patient's discharge note. \n",
      "### Discharge note :\n",
      "[ Report de-identified ( Safe-harbor compliant ) by De-ID v.6.22.07.0]\n",
      "\n",
      "\n",
      "\n",
      "**INSTITUTION GENERAL MEDICINE DISCHARGE SUMMARY PATIENT NAME : **NAME[AAA , BBB M] ACCOUNT # : **ID-NUM **ROOM ATTENDING PHYSICIAN : **NAME[YYY M ZZZ] ADMISSION DATE : **DATE[ Jul 06 2007] DISCHARGE DATE : **DATE[ Jul 11 2007] CHIEF COMPLAINT : Report of confusion .\n",
      "HISTORY OF PRESENT ILLNESS : The patient is a **AGE[in 50s]-year-old gentleman with a past medical history significant for hepatic encephalopathy who is not very compliant with his lactulose because it gives him diarrhea .\n",
      "He reported to the EDS after complaining of subjective feelings of confusion .\n",
      "The patient does have a history of being admitted in the recent past , last time on **DATE[ Jun 14 2007] , and the time prior **DATE[ May 26 2007] .\n",
      "In the ED , he was found to be relatively near baseline .\n",
      "He denied any history of fall or trauma , fevers or chills , or abdominal pain .\n",
      "He denies any recent drug abuse .\n",
      "For this reason , he was admitted to the hospital for further workup .\n",
      "PAST MEDICAL HISTORY : 1 .\n",
      "Liver disease and cirrhosis status post portacaval shunt . 2.\n",
      "Hepatic encephalopathy . 3.\n",
      "Chronic anemia .\n",
      "HOSPITAL COURSE : As stated above , the patient was admitted mainly for evaluation of his confusion .\n",
      "A urine tox screen was positive for cocaine , urine opiates , and urine methadone .\n",
      "Ethanol screen showed levels of 134 .\n",
      "TSH was 0.96 .\n",
      "White count was normal as were hemoglobin and hematocrit .\n",
      "LFTs were done which showed ALT elevated at 53 , AST elevated at 112 , alkaline phosphatase elevated at 166 , and ammonia elevated at 98.\n",
      "The patient had these in the past .\n",
      "Electrolytes were all normal as well as BUN and creatinine .\n",
      "The patient was admitted and temporarily placed on WAS protocol with Ativan to prevent any withdrawal symptoms .\n",
      "He did have a chest x-ray done which showed no acute pulmonary disease .\n",
      "He remained stable during his stay here , and we made sure that he got his lactulose .\n",
      "His ammonia levels did remain on the higher side during his stay here , but again it was felt that he was back to baseline .\n",
      "While he was here , he also complained of pain in his left lower spine .\n",
      "We did do films of his LS spine , which showed greater than 1-cm anterolisthesis of L5 and S1 with prominent DJD at that level .\n",
      "We did place the patient prophylactically on Zanaflex and Flexeril with minimal improvement , but physical therapy came by and evaluated the patient and found his lower extremity strength to be normal , and I myself evaluated the patient and ambulated with him .\n",
      "He was able to walk without any assistance .\n",
      "It was found that this is a muscular component as well to his injury .\n",
      "At this time , the patient was felt to be ready to be discharged back to home .\n",
      "His mentation was back to baseline , and as far as his pain , this can be managed as an outpatient .\n",
      "Of note , prior to the patient receiving his discharge instructions , he did leave the premises .\n",
      "DISCHARGE DIAGNOSIS : Confusion , which is resolved .\n",
      "DISCHARGE INSTRUCTIONS : Diet : As tolerated .\n",
      "Activity : As tolerated .\n",
      "Followup : With Dr. **NAME[ZZZ] in 1 to 2 weeks .\n",
      "ALLERGIES NONE.\n",
      "DISCHARGE MEDICATIONS : 1 .\n",
      "Folate 1 mg p.o . q . day . 2.\n",
      "Lactulose 20 g p.o . q.6 hours . 3.\n",
      "Ativan 1 g p.o . q . day . 4 .\n",
      "Magnesium oxide 400 mg p.o . b.i.d . 5 .\n",
      "Free supplementation multivitamin 1 p.o . q . day . 6 .\n",
      "Thiamine 100 mg p.o . q . day .\n",
      "The patient was due to receive prescriptions for Flexeril and Zanaflex , but he left before he did receive this .\n",
      "CONDITION ON DISCHARGE : The patient 's condition on discharge was stable .\n",
      "He was mentating quite clearly , and he was able to ambulate without any assistance .\n",
      "He was ready to be discharged today . **INSTITUTION.\n",
      "\n",
      "__ _ _ _ _ _ _ _ _ _ _ _ _ _ _ _ _ _ _ _ _ _ _ _ _ _ _ _ _ _ _ _ _ _ **NAME[YYY M ZZZ]\n",
      "\n",
      "Dictator : **NAME[VVV XXX , WWW-M] DV/ss D : **DATE[ Jul 11 2007] 13:30:50 T : **DATE[ Jul 12 2007] 01:48:48 R: **DATE[ Jul 12 2007] 01:48:48/ss Job ID : 342291/**ID-NUM Cc : &lt ;start footer&gt ; &lt;END FOOTER&gt ;\n",
      "\n",
      "*** Dictated By : -**NAME[XXX , WWW-UUU] *** Electronically Signed by **NAME[YYY ZZZ] **DATE[ Jul 19 2007] 03 :26:38 PM\n",
      "\n",
      "\n",
      "\n",
      "\n",
      "\n",
      "\n",
      "\n",
      "\n",
      "\n",
      "            system : You are a helpful assistant trained for healthcare-related text processing\n",
      "doctor : Hi, how can I help you today?\n",
      "patient : I have some questions about my discharge instructions and what I need to do after leaving the hospital.\n",
      "doctor : Sure, let's go over your discharge instructions together. Your main diagnosis was confusion, which is now resolved. [Evidence: DISCHARGE DIAGNOSIS: Confusion, which is resolved.]\n",
      "patient : Okay, that sounds good. What about my diet and activities?\n",
      "doctor : Your instructions are to eat whatever you feel you can handle, and you're allowed to be as active as you feel comfortable with. [Evidence: DISCHARGE INSTRUCTIONS: Diet: As tolerated. Activity: As tolerated.]\n",
      "patient : Who should I follow up with after my discharge?\n",
      "doctor : You should schedule a follow-up appointment with Dr. ZZZ in 1 to 2 weeks. [Evidence: DISCHARGE INSTRUCTIONS: Followup: With Dr. **NAME[ZZZ] in 1 to 2 weeks.]\n",
      "patient : What medications should I take at home?\n",
      "doctor : You're prescribed the following medications:\n",
      "patient : Thank you, doctor. Also, how is my condition now?\n",
      "doctor : Your condition is stable, and you are thinking clearly. You can also walk without help, which indicates you're ready to be discharged. [Evidence: CONDITION ON DISCHARGE: The patient 's condition on discharge was stable. He was mentating quite clearly, and he was able to ambulate without any assistance.]\n",
      "\n"
     ]
    }
   ],
   "source": [
    "print(df['conversation_text'][0])"
   ]
  },
  {
   "cell_type": "code",
   "execution_count": 44,
   "metadata": {},
   "outputs": [
    {
     "data": {
      "text/plain": [
       "{'messages': [{'role': 'system',\n",
       "   'content': 'You are a helpful assistant trained for healthcare. Here is the patient\\'s discharge note. \\n\\n  \\nName:  ___                       Unit No:   ___\\n \\nAdmission Date:  ___              Discharge Date:   ___\\n \\nDate of Birth:  ___             Sex:   F\\n \\nService: MEDICINE\\n \\nAllergies: \\nACE Inhibitors / Lescol / simvastatin\\n \\nAttending: ___.\\n \\nChief Complaint:\\nNeutropenic fever\\n \\nMajor Surgical or Invasive Procedure:\\nNone\\n \\nHistory of Present Illness:\\nMs. ___ is a pleasant ___ w/ HTN, DL, NSTEMI, L parietal \\nmeningioma, and polycythemia ___ transformed to AML s/p MUD RIC \\nallo HSCT ___ w/ relapse, now on decitabine, who p/w fevers \\nand muscle aches, tmax 100.4 after receiving dacogen and \\nplatelets yesterday. SHe has no localizing sx. \\n\\nIn ED fever improved, tmax 99.4F. Remaining VS unremarkable. \\nReceived vanc/cef and admitted. On arrival to ___, pt noted she \\nfelt significantly improved and back to her baseline. \\n\\nREVIEW OF SYSTEMS: 12 point ROS reviewed in detail and negative \\nexcept for what is\\nmentioned above in HPI\\n \\nPast Medical History:\\n-Polycythemia ___, JAK2 heterozygous, with transformation to \\nacute myeloid leukemia\\n-Cavernous sinus thrombosis\\n-Left parietal meningioma\\n-Hypertension\\n-Dyslipidemia\\n-Depression \\n-NSTEMI-demand ischemia\\n \\nSocial History:\\n___\\nFamily History:\\nMother has ovarian cancer in her ___\\nBrother pancreatic cancer\\nFather had heart disease\\n \\nPhysical Exam:\\nADMISSION PHYSICAL EXAM:\\nVITAL SIGNS: 99.0 PO 149 / 80 83 18 95 Ra\\nGeneral:  NAD, Resting in bed comfortably\\nHEENT:  MM dry, no OP lesions \\nCV:  RR, NL ___ SEM R ICS (admits to murmur since \\nchildhood)\\nPULM:  CTAB, No C/W/R, No respiratory distress\\nABD:  BS+, soft, NTND, no peritoneal signs \\nLIMBS: WWP, no ___, no tremors\\nSKIN:  No notable rashes on trunk nor extremities aside from \\nscattered small ecchymosis on the ext\\nNEURO: CN III-XII intact, strength b/l ___ intact\\nPSYCH: Thought process logical, linear, future oriented\\nACCESS: R subclavian tunneled line, insertion site intact w/o \\nany pus or discharge\\n\\nDISCHARGE PHYSICAL EXAM:\\nVITAL SIGNS: 24 HR Data (last updated ___ @ 704)\\n    Temp: 98.8 (Tm 99.9), BP: 119/62 (104-131/62-79), HR: 68\\n(59-74), RR: 18 (___), O2 sat: 99% (97-99), O2 delivery: RA,\\nWt: 170.6 lb/77.38 kg   \\nGeneral:  NAD, Resting in bed\\nHEENT:  MMM, no OP lesions, sinuses are non tender to palpation\\nCV:  RR, NL ___ SEM R ICS (admits to murmur since \\nchildhood)\\nPULM:  CTAB, No C/W/R, No respiratory distress\\nABD:  BS+, soft, NTND, no peritoneal signs \\nLIMBS: WWP, mild swelling along the right lateral knee, non \\ntender to palpation, no erythema or warmth \\nSKIN:  No notable rashes on trunk nor extremities aside from \\nscattered small ecchymosis on the ext\\nACCESS: R subclavian tunneled line, insertion site intact w/o \\nany pus or discharge\\n \\nPertinent Results:\\nADMISSION LABS ___:\\n=============================\\nWBC-0.9* RBC-2.52* Hgb-8.0* Hct-23.9* MCV-95 MCH-31.7 MCHC-33.5 \\nRDW-16.3* RDWSD-55.1* Plt Ct-23*\\nNeuts-14* Bands-0 Lymphs-69* Monos-5 Eos-2 Baso-0 Atyps-0 \\n___ Myelos-0 Blasts-10* NRBC-2* AbsNeut-0.13* AbsLymp-0.62* \\nAbsMono-0.05* AbsEos-0.02* AbsBaso-0.00*\\nUreaN-26* Creat-1.2* Na-137 K-4.4 Cl-99 HCO3-25 AnGap-13\\nAlbumin-4.1 Calcium-9.4 Phos-3.8 Mg-2.3\\nINR-1.2*\\nALT-17 AST-16 AlkPhos-98 TotBili-0.5 Lipase-15\\nLactate-1.5\\n\\nRELEVANT LABS:\\n=============================\\n___ Lactate-1.5\\n___ ___ PTT-28.4 ___\\n\\nDISCHARGE LABS ___:\\n=============================\\nWBC-0.9* RBC-2.45* Hgb-7.7* Hct-22.8* MCV-93 MCH-31.4 MCHC-33.8 \\nRDW-16.8* RDWSD-55.7* Plt Ct-18*\\nNeuts-25* Bands-0 Lymphs-62* Monos-3* Eos-1 Baso-0 Atyps-0 \\n___ Myelos-1* Blasts-8* NRBC-2* AbsNeut-0.23* AbsLymp-0.56* \\nAbsMono-0.03* AbsEos-0.01* AbsBaso-0.00*\\nGlucose-105* UreaN-21* Creat-1.0 Na-138 K-4.0 Cl-102 HCO3-21* \\nAnGap-15\\nALT-13 AST-13 LD(___)-162 AlkPhos-78 TotBili-0.4\\nCalcium-8.9 Phos-3.7 Mg-1.7 UricAcd-2.9\\n\\nMICROBIOLOGY:\\n=============================\\nBlood cultures (___): no growth to date\\nUA (___): normal\\nUrine culture (___): negative\\nEBV qPCR (___): negative\\n\\nIMAGING:\\n=============================\\nCXR ___: Normal\\n\\nCT Sinus Impression (___):\\nMinimal mucosal thickening in the left maxillary sinus and small \\nmucous \\nretention cysts in the right maxillary and right sphenoid \\nsinuses are not \\nsignificantly changed going back to ___.  Findings are \\nunlikely to represent acute sinusitis. \\n\\n \\nBrief Hospital Course:\\nSUMMARY:\\n___ w/ HTN, DL, NSTEMI, L parietal meningioma, and polycythemia \\n___ transformed to AML s/p MUD RIC allo HSCT ___ w/ \\nrelapse, now on decitabine, who p/w isolated fever to 100.4 and \\nmuscle aches after receiving dacogen and platelets, w/o \\nlocalizing symptoms. \\n\\nACTIVE ISSUES:\\n# Neutropenic fever\\nPresented with temperature of 100.4 and muscle aches following \\nday 1 of cycle 2 of Decitabine and a platelet transfusion. There \\nwas no obvious source identified, but given her profound \\nneutropenia (admission ANC 160), she was pancultured and \\ninitiated on vancomycin/cefepime. On ___, the patient noted \\nmild \"right sinus congestion.\" Pt reports history of sinus \\ninfections and also seasonal allergies. Review of systems \\notherwise negative and exam unremarkable. CT scan of the sinus \\ndid not show evidence of an acute sinusitis. Vancomycin was \\ndiscontinued after 48 hours and cefepime was discontinued after \\n72 hours. Pt was monitored for 24 hours on oral antibiotics \\n(home ciprofloxacin) prior to discharge. Etiology of the fever \\nremains unknown. Differential includes infection (viral > \\nbacterial), reaction to either the chemotherapy or platelet \\ntransfusion, or her underlying malignancy. \\n\\n# Acute Myeloid Leukemia, Relapse\\n# Pancytopenia\\n(complex cytogenetics + TP53 deletion, FLT3 ITD negative)\\nPer outpatient note from ___: Patient received 4 cycles of \\nDacogen induction followed by RIC MUD AlloSCT with \\nFlu/Bu/ATG/MTX while in CR1. Downtrending plts concerning for \\nrelapse around D+100 and BMBX on ___ consistent with \\nrelapsed disease with ___ blasts on core and complex \\nkaryotype including p53 deletion present at initial diagnosis. \\nThe plan was to start Decitabine the following week to allow for \\nher counts to recover in addition to tapering her Tacrolimus \\nlevel. As noted, patient presented to the hospital on ___ with a \\nlow grade fever (100.4) and muscle aches after receiving her \\nfirst dose of Decitabine (cycle 2, day 1 of 5) and a platelet \\ntransfusion. She was treated for neutropenic fever (see above) \\nand continued cycle 2 of Decitabine (day 5 of 5 on ___. Her \\ntacrolimus was tapered from 0.5mg 5x/week to 0.5mg every other \\nday. Her peripheral blast percentage was 9% on admission, peaked \\nto 11% and was down to 8% at discharge. \\n\\n# Pancytopenia\\nSecondary to chemotherapy and relapse of AML. She required 1 \\nunit of red cells on admission for a hemoglobin of 6.4. She was \\ncontinued on her Acyclovir, Bactrim and Posaconazole; \\nCiprofloxacin held while on Cefepime and restarted prior to \\ndischarge. \\n\\n# Knee pain, acute on chronic\\nPt with history of right knee trauma. Since then, she has \\nintermittent flares of pain and swelling. This usually resolves \\nwith ice, a knee brace and acetaminophen or low dose oxycodone. \\nOvernight on ___, the patient developed similar but slightly \\nmore severe right knee pain, worse with flexion and when \\nwalking. At this time, she was also noted to have a temperature \\nof 99.2 but was otherwise asymptomatic. Her knee had mild \\nswelling along the right lateral aspect but exam was otherwise \\nunremarkable. Her pain resolved with one dose of oxycodone and \\nstabilization with her knee brace. The decision was made to \\ndefer further work up given the chronicity of the pain and that \\nfact that she looked and felt well from every other aspect. \\n\\nCHRONIC ISSUES:\\n# Hypertension\\nThe patient\\'s home amlodipine on was held on admission. Earlier \\nin her course her systolic pressures remained between 100s-120s. \\nPrior to discharge, her blood pressures ranged between 120-140s. \\nWill restart amlodipine on day after discharge. \\n\\n# Elevated creatinine\\nPer OMR, creatinine level fluctuates, with intermittent \\nelevations between 1.1-1.4. Baseline creatinine appears to be \\ncloser to 0.8-1.0. During this admission, her creatinine ranged \\nbetween 1.0-1.2. Nephrotoxins were avoided including contrast or \\nNSAIDs.\\n\\n# History of cavernous sinus thrombosis: MRI on ___ \\nconsistent with subacute venous sinus thrombosis. Neurosurgery \\nrecommended systemic anticoagulation to prevent propagation of \\nthe filling defect which is likely due to meningioma. She was \\ninitiated on therapeutic enoxaparin. This has been held since \\n___ secondary to platelet count less than 50,000.\\n\\n# History of left parietal meningioma: asymptomatic, followed by \\n\\nDr. ___ neuro-oncology as well as Dr. ___ \\nneurosurgery.\\nMeningioma thought to be slow growing and no urgent intervention \\nis needed at this time. Will likely undergo surgical excision \\nfollowing treatment of leukemia.\\n\\nTRANSITIONAL ISSUES:\\nCode status: Full (presumed)\\nAccess: tunnel line (right subclavian, heparin-dependent)\\nContact(s): \\n1. ___ (HCP), friend - ___\\n2. ___, friend - ___ \\n3. ___ (next of kin) - ___ \\nDischarge CBC: WBC 0.9, Hb 7.7, Plt 18\\nDischarge ANC: 230\\nDischarge peripheral blast percentile: 8%\\nDischarge creatinine: 1.0\\n\\n- Acute Myeloid Leukemia\\n[] Continue to wean Tacrolimus: 0.5mg 5x/week decreased to every \\nother day on ___ (held on ___, next dose on ___\\n\\n- Acute on chronic right knee pain\\n[] Assess degree of swelling and mobility of her knee in clinic\\n\\n- History of cavernous sinus thrombosis\\n[] Plan to restart Lovenox once platelet count recovers >50k\\n \\nMedications on Admission:\\nThe Preadmission Medication list is accurate and complete.\\n1. Acyclovir 400 mg PO Q8H \\n2. amLODIPine 10 mg PO DAILY \\n3. FoLIC Acid 1 mg PO DAILY \\n4. Multivitamins 1 TAB PO DAILY \\n5. OxyCODONE (Immediate Release) 10 mg PO Q4H:PRN Pain - \\nModerate \\n6. Sulfameth/Trimethoprim SS 1 TAB PO DAILY \\n7. Tacrolimus 0.5 mg PO 5X/WEEK (___) \\n8. Posaconazole Delayed Release Tablet 300 mg PO DAILY \\n9. Ciprofloxacin HCl 500 mg PO Q12H \\n10. LORazepam 0.5 mg PO Q8H:PRN nausea \\n11. Vitamin D 1000 UNIT PO DAILY \\n\\n \\nDischarge Medications:\\n1.  Acetaminophen 650 mg PO Q6H:PRN Pain - Mild  \\n2.  Tacrolimus 0.5 mg PO EVERY OTHER DAY  \\n3.  Acyclovir 400 mg PO Q8H  \\n4.  amLODIPine 10 mg PO DAILY  \\n5.  Ciprofloxacin HCl 500 mg PO Q12H  \\n6.  FoLIC Acid 1 mg PO DAILY  \\n7.  LORazepam 0.5 mg PO Q8H:PRN nausea  \\n8.  Multivitamins 1 TAB PO DAILY  \\n9.  OxyCODONE (Immediate Release) 10 mg PO Q4H:PRN Pain - \\nModerate  \\n10.  Posaconazole Delayed Release Tablet 300 mg PO DAILY  \\n11.  Sulfameth/Trimethoprim SS 1 TAB PO DAILY  \\n12.  Vitamin D 1000 UNIT PO DAILY  \\n\\n \\nDischarge Disposition:\\nHome With Service\\n \\nFacility:\\n___\\n \\nDischarge Diagnosis:\\nPRIMARY:\\n----------------\\nNeutropenic fever\\nAcute Myeloid Leukemia, Relapse\\n\\nSECONDARY:\\n----------------\\nPancytopenia\\nKnee pain, acute on chronic\\nHypertension\\nElevated creatinine\\nHistory of cavernous sinus thrombosis \\nHistory of left parietal meningioma\\n\\n \\nDischarge Condition:\\nMental Status: Clear and coherent.\\nLevel of Consciousness: Alert and interactive.\\nActivity Status: Ambulatory - Independent.\\n\\n \\nDischarge Instructions:\\nDear ___,\\n\\nYou were admitted to ___ \\nbecause you were having muscle aches and developed a fever to \\n100.4 degrees. \\n\\nBecause your immune system is low right now, you were given \\nstrong intravenous antibiotics just in case you had an \\ninfection. Fortunately, no source of infection was found and you \\ndid not have any more fevers while you were here. We \\ndiscontinued these strong antibiotics and started you back on \\nyour home Ciprofloxacin. \\n\\nWhile you were here, you completed the remaining 4 of your 5 \\ndays of chemotherapy and tolerated this very well. You were also \\ntransfused 1 unit of red blood cells during your \\nhospitalization. \\n\\nAs mentioned above, your immune system is very weak right now \\nwhile you are undergoing treatment. Therefore, please follow a \\nstrict diet (called a neutropenic diet). If you need a reminder, \\nplease refer to the following website: \\nh\\nt\\nt\\np\\n:\\n/\\n/\\nw\\nw\\nw\\n.\\nu\\np\\nm\\nc\\n.\\nc\\no\\nm/patients-visitors/education/cancer/Pages/neutropenic-diet.aspx\\n\\nYour medication list is essentially the same as when you came \\nin. However, we have decreased the frequency of your Tacrolimus \\ndosing. Please take your Tacrolimus 0.5mg every other day as \\nopposed to 5 days a week. You are due for this medication on \\n___. \\n\\nFinally, if you develop a fever (100.4F or greater), chills, \\nmouth sores, sinus pain, pain with swallowing, cough (dry or \\nwith mucous), shortness of breath, chest pain with deep \\nbreathing, abdominal pain, nausea, vomiting, diarrhea, abnormal \\nrashes or any other symptoms that concern you, please call your \\ndoctor or return to the emergency room. \\n\\nIt was a pleasure taking part in your care. We wish you all the \\nbest with your health.\\n\\nSincerely,\\nThe team at ___\\n \\nFollowup Instructions:\\n___\\n'},\n",
       "  {'role': 'doctor', 'content': 'Hi, how can I help you today?'},\n",
       "  {'role': 'patient',\n",
       "   'content': \"I have some questions about my discharge instructions. I'm trying to understand what I need to focus on after leaving the hospital.\"},\n",
       "  {'role': 'doctor',\n",
       "   'content': 'Sure! Let\\'s go through the main points. You were admitted because of muscle aches and a fever due to a weak immune system from your treatments. We gave you antibiotics as a precaution, but no infection was found, and you didn\\'t have more fevers while you were here. (Evidence: \"You were admitted to ___ because you were having muscle aches and developed a fever to 100.4 degrees... no source of infection was found and you did not have any more fevers while you were here.\")'},\n",
       "  {'role': 'patient',\n",
       "   'content': \"Okay, that's good to know. What should I be doing at home?\"},\n",
       "  {'role': 'doctor',\n",
       "   'content': 'Your immune system is still weak, so it\\'s important to follow a strict neutropenic diet to reduce the risk of infection. The diet helps avoid foods that may contain harmful bacteria. There\\'s a website provided in your instructions for more details. (Evidence: \"As mentioned above, your immune system is very weak right now while you are undergoing treatment. Therefore, please follow a strict diet (called a neutropenic diet).\")'},\n",
       "  {'role': 'patient',\n",
       "   'content': 'I see. Now, about my medications. Anything I need to change?'},\n",
       "  {'role': 'doctor',\n",
       "   'content': 'Your medication routine is mostly the same, but the frequency of one medication called Tacrolimus has changed. You should take it every other day instead of five days a week. Be sure to follow this new schedule. (Evidence: \"Your medication list is essentially the same as when you came in. However, we have decreased the frequency of your Tacrolimus dosing.\")'},\n",
       "  {'role': 'patient',\n",
       "   'content': 'Got it, thank you. What about if I start feeling sick again?'},\n",
       "  {'role': 'doctor',\n",
       "   'content': 'If you develop a fever of 100.4°F or greater, chills, mouth sores, or other concerning symptoms like breathing difficulties or unusual rashes, you should contact your doctor or go to the emergency room. It\\'s important to address these signs quickly due to your current condition. (Evidence: \"Finally, if you develop a fever (100.4F or greater), chills, mouth sores... please call your doctor or return to the emergency room.\")'},\n",
       "  {'role': 'patient',\n",
       "   'content': \"Thank you, that's really helpful. I'll make note of everything.\"}]}"
      ]
     },
     "execution_count": 44,
     "metadata": {},
     "output_type": "execute_result"
    }
   ],
   "source": [
    "train[0]"
   ]
  },
  {
   "cell_type": "code",
   "execution_count": null,
   "metadata": {},
   "outputs": [
    {
     "name": "stderr",
     "output_type": "stream",
     "text": [
      "Generating train split: 100%|██████████| 15011/15011 [00:00<00:00, 116476.33 examples/s]\n"
     ]
    }
   ],
   "source": [
    "from datasets import load_dataset\n",
    "\n",
    "data = load_dataset(\"philschmid/dolly-15k-oai-style\",split=\"train\")"
   ]
  },
  {
   "cell_type": "code",
   "execution_count": 3,
   "metadata": {},
   "outputs": [],
   "source": [
    "from datasets import load_dataset\n",
    "from utils import * \n",
    "config = load_config()\n",
    "PROJECT_PATH = config.project_path\n",
    "DATA_PATH = PROJECT_PATH.joinpath(\"data/processed\")\n",
    "\n",
    "data = load_dataset(\"json\", data_files={\"train\" : DATA_PATH.joinpath(\"train_conversation.jsonl\").as_posix(),\n",
    "                                    \"test\" : DATA_PATH.joinpath(\"test_conversation.jsonl\").as_posix()})"
   ]
  }
 ],
 "metadata": {
  "kernelspec": {
   "display_name": "cn",
   "language": "python",
   "name": "python3"
  },
  "language_info": {
   "codemirror_mode": {
    "name": "ipython",
    "version": 3
   },
   "file_extension": ".py",
   "mimetype": "text/x-python",
   "name": "python",
   "nbconvert_exporter": "python",
   "pygments_lexer": "ipython3",
   "version": "3.12.5"
  }
 },
 "nbformat": 4,
 "nbformat_minor": 2
}
