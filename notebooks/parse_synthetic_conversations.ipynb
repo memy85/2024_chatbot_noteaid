{
 "cells": [
  {
   "cell_type": "code",
   "execution_count": null,
   "id": "7135408d",
   "metadata": {},
   "outputs": [],
   "source": [
    "import json\n",
    "import pandas \n",
    "from utils import *\n",
    "config = load_config()\n",
    "PROJECT_PATH = config.project_path\n",
    "DATA_PATH = PROJECT_PATH.joinpath(\"data/processed\")"
   ]
  },
  {
   "cell_type": "code",
   "execution_count": null,
   "id": "89d7d26a",
   "metadata": {
    "lines_to_next_cell": 0
   },
   "outputs": [],
   "source": [
    "\n",
    "with open(DATA_PATH.joinpath(\"gpt4o_mini_generated_synthetic_conversation_10000.pkl\"), \"rb\") as f :\n",
    "    conv = pickle.load(f)"
   ]
  },
  {
   "cell_type": "code",
   "execution_count": null,
   "id": "372702d3",
   "metadata": {},
   "outputs": [],
   "source": [
    "\n",
    "print(conv[3]['messages'])"
   ]
  },
  {
   "cell_type": "code",
   "execution_count": null,
   "id": "b9af2827",
   "metadata": {
    "lines_to_next_cell": 1
   },
   "outputs": [],
   "source": [
    "import openai\n",
    "from openai import OpenAI\n",
    "openai.api_key = os.getenv(\"OPENAI_API_KEY\")\n",
    "openai.organization = os.getenv(\"OPENAI_ORG_ID\")\n",
    "\n",
    "client = OpenAI(\n",
    "    organization=os.getenv(\"OPENAI_ORG_ID\"),\n",
    ")\n",
    "\n",
    "def query_chatgpt(prompt) :\n",
    "    try :\n",
    "        completion = client.chat.completions.create(\n",
    "            model = \"gpt-4o-mini\",\n",
    "            messages = [\n",
    "                {\"role\" : \"user\", \"content\" : prompt}\n",
    "            ],\n",
    "            # max_tokens=300,\n",
    "        )\n",
    "    except :\n",
    "        logging(\"API Call did not work..\")\n",
    "        return -1\n",
    "\n",
    "    return completion.choices[0].message.content"
   ]
  },
  {
   "cell_type": "code",
   "execution_count": null,
   "id": "f8386882",
   "metadata": {},
   "outputs": [],
   "source": [
    "prompt = \"\"\"\n",
    "The given string has some errors and cannot be converted to json. Fix the error and give it back to me.\n",
    "Please only output the json and no other words. Do not put any ``` or ```json or ```python in to the string. Just the json format itself.\n",
    "\n",
    "Input : \n",
    "{}\n",
    "\n",
    "Output : \n",
    "\"\"\""
   ]
  },
  {
   "cell_type": "code",
   "execution_count": null,
   "id": "1f8e0288",
   "metadata": {},
   "outputs": [],
   "source": [
    "problematic = []\n",
    "conversation = []\n",
    "for i, c in enumerate(conv) :\n",
    "    out = c['messages']\n",
    "    while True : \n",
    "        try : \n",
    "            m = json.loads(out)\n",
    "            conversation.append(m[1:])\n",
    "            break\n",
    "        except :\n",
    "            print(i)\n",
    "            p = prompt.format(out)\n",
    "            out = query_chatgpt(p)\n",
    "            continue\n",
    "\n",
    "    # remove system message"
   ]
  },
  {
   "cell_type": "code",
   "execution_count": null,
   "id": "fe98d567",
   "metadata": {
    "lines_to_next_cell": 2
   },
   "outputs": [],
   "source": [
    "\n",
    "with open(DATA_PATH.joinpath(\"synthetic_conversation_10000.pkl\"), \"wb\") as f :\n",
    "    pickle.dump(conversation, f)"
   ]
  },
  {
   "cell_type": "code",
   "execution_count": null,
   "id": "b7c77654",
   "metadata": {},
   "outputs": [],
   "source": [
    "\n",
    "\n"
   ]
  },
  {
   "cell_type": "code",
   "execution_count": null,
   "id": "1ca630ad",
   "metadata": {},
   "outputs": [],
   "source": [
    "json.loads(c[\"messages\"])"
   ]
  },
  {
   "cell_type": "code",
   "execution_count": null,
   "id": "638f81f4",
   "metadata": {},
   "outputs": [],
   "source": [
    "from datasets import load_dataset\n",
    "\n",
    "def load_datasets() :\n",
    "\n",
    "    data = load_dataset(\"json\", data_files={\"train\" : DATA_PATH.joinpath(\"train_conversation.jsonl\").as_posix(),\n",
    "                                     \"test\" : DATA_PATH.joinpath(\"test_conversation.jsonl\").as_posix()})\n",
    "    return data\n",
    "\n",
    "data = load_datasets()\n",
    "\n",
    "\n",
    "data['train']['messages'][0]"
   ]
  }
 ],
 "metadata": {
  "jupytext": {
   "cell_metadata_filter": "-all"
  },
  "kernelspec": {
   "display_name": "Python 3 (ipykernel)",
   "language": "python",
   "name": "python3"
  }
 },
 "nbformat": 4,
 "nbformat_minor": 5
}
